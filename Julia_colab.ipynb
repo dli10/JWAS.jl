{
  "cells": [
    {
      "cell_type": "code",
      "execution_count": null,
      "metadata": {
        "colab": {
          "base_uri": "https://localhost:8080/"
        },
        "id": "GIeFXS0F0zww",
        "outputId": "bba09b90-78e0-4fcb-c345-022813ff0453"
      },
      "outputs": [
        {
          "output_type": "stream",
          "name": "stdout",
          "text": [
            "Installing Julia 1.7.1 on the current Colab Runtime...\n",
            "2022-08-01 04:12:08 URL:https://storage.googleapis.com/julialang2/bin/linux/x64/1.7/julia-1.7.1-linux-x86_64.tar.gz [123374573/123374573] -> \"/tmp/julia.tar.gz\" [1]\n",
            "Installing Julia package IJulia...\n",
            "Installing Julia package CSV...\n",
            "Installing Julia package DataFrames...\n",
            "Installing Julia package Random...\n",
            "Installing Julia package Statistics...\n",
            "Installing Julia package JWAS...\n",
            "Installing IJulia kernel...\n",
            "\u001b[36m\u001b[1m[ \u001b[22m\u001b[39m\u001b[36m\u001b[1mInfo: \u001b[22m\u001b[39mInstalling julia kernelspec in /root/.local/share/jupyter/kernels/julia-1.7\n",
            "\n",
            "Successfully installed julia version 1.7.1!\n",
            "Please reload this page (press Ctrl+R, ⌘+R, or the F5 key) then\n",
            "jump to the 'Checking the Installation' section.\n"
          ]
        },
        {
          "output_type": "execute_result",
          "data": {
            "text/plain": [
              ""
            ]
          },
          "metadata": {},
          "execution_count": 1
        }
      ],
      "source": [
        "%%shell\n",
        "set -e\n",
        "\n",
        "#---------------------------------------------------#\n",
        "JULIA_VERSION=\"1.7.1\" # any version ≥ 0.7.0\n",
        "JULIA_PACKAGES=\"IJulia CSV DataFrames Random Statistics Distributions LinearAlgebra SparseArrays Printf JWAS\"  # CSV DataFrames Random Statistics JWAS Distributions LinearAlgebra\n",
        "JULIA_PACKAGES_IF_GPU=\"\"\n",
        "JULIA_NUM_THREADS=4\n",
        "#---------------------------------------------------#\n",
        "\n",
        "if [ -n \"$COLAB_GPU\" ] && [ -z `which julia` ]; then\n",
        "  # Install Julia\n",
        "  JULIA_VER=`cut -d '.' -f -2 <<< \"$JULIA_VERSION\"`\n",
        "  echo \"Installing Julia $JULIA_VERSION on the current Colab Runtime...\"\n",
        "  BASE_URL=\"https://julialang-s3.julialang.org/bin/linux/x64\"\n",
        "  URL=\"$BASE_URL/$JULIA_VER/julia-$JULIA_VERSION-linux-x86_64.tar.gz\"\n",
        "  wget -nv $URL -O /tmp/julia.tar.gz # -nv means \"not verbose\"\n",
        "  tar -x -f /tmp/julia.tar.gz -C /usr/local --strip-components 1\n",
        "  rm /tmp/julia.tar.gz\n",
        "\n",
        "  # Install Packages\n",
        "  if [ \"$COLAB_GPU\" = \"1\" ]; then\n",
        "      JULIA_PACKAGES=\"$JULIA_PACKAGES $JULIA_PACKAGES_IF_GPU\"\n",
        "  fi\n",
        "  for PKG in `echo $JULIA_PACKAGES`; do\n",
        "    echo \"Installing Julia package $PKG...\"\n",
        "    julia -e 'using Pkg; pkg\"add '$PKG'; precompile;\"' &> /dev/null\n",
        "  done\n",
        "\n",
        "  # Install kernel and rename it to \"julia\"\n",
        "  echo \"Installing IJulia kernel...\"\n",
        "  julia -e 'using IJulia; IJulia.installkernel(\"julia\", env=Dict(\n",
        "      \"JULIA_NUM_THREADS\"=>\"'\"$JULIA_NUM_THREADS\"'\"))'\n",
        "  KERNEL_DIR=`julia -e \"using IJulia; print(IJulia.kerneldir())\"`\n",
        "  KERNEL_NAME=`ls -d \"$KERNEL_DIR\"/julia*`\n",
        "  mv -f $KERNEL_NAME \"$KERNEL_DIR\"/julia  \n",
        "\n",
        "  echo ''\n",
        "  echo \"Successfully installed `julia -v`!\"\n",
        "  echo \"Please reload this page (press Ctrl+R, ⌘+R, or the F5 key) then\"\n",
        "  echo \"jump to the 'Checking the Installation' section.\"\n",
        "fi"
      ]
    },
    {
      "cell_type": "code",
      "execution_count": 3,
      "metadata": {
        "colab": {
          "base_uri": "https://localhost:8080/"
        },
        "id": "EEzvvzCl1i0F",
        "outputId": "fd1e50ab-2aa4-4ed1-932a-71f7b60dc4e5"
      },
      "outputs": [
        {
          "output_type": "stream",
          "name": "stdout",
          "text": [
            "Julia Version 1.7.1\n",
            "Commit ac5cc99908 (2021-12-22 19:35 UTC)\n",
            "Platform Info:\n",
            "  OS: Linux (x86_64-pc-linux-gnu)\n",
            "  CPU: Intel(R) Xeon(R) CPU @ 2.30GHz\n",
            "  WORD_SIZE: 64\n",
            "  LIBM: libopenlibm\n",
            "  LLVM: libLLVM-12.0.1 (ORCJIT, haswell)\n",
            "Environment:\n",
            "  JULIA_NUM_THREADS = 4\n"
          ]
        }
      ],
      "source": [
        "versioninfo()"
      ]
    },
    {
      "cell_type": "code",
      "source": [
        "a = 2.5"
      ],
      "metadata": {
        "id": "ChaVU2trZ099",
        "outputId": "4e281147-846b-4b80-c42f-b3e86249c634",
        "colab": {
          "base_uri": "https://localhost:8080/"
        }
      },
      "execution_count": 4,
      "outputs": [
        {
          "output_type": "execute_result",
          "data": {
            "text/plain": [
              "2.5"
            ]
          },
          "metadata": {},
          "execution_count": 4
        }
      ]
    },
    {
      "cell_type": "code",
      "source": [
        "5a"
      ],
      "metadata": {
        "id": "Aq1h3AjzaOVR",
        "outputId": "635b3641-059c-4109-ed8f-317bbfebe2b8",
        "colab": {
          "base_uri": "https://localhost:8080/"
        }
      },
      "execution_count": 5,
      "outputs": [
        {
          "output_type": "execute_result",
          "data": {
            "text/plain": [
              "12.5"
            ]
          },
          "metadata": {},
          "execution_count": 5
        }
      ]
    },
    {
      "cell_type": "code",
      "source": [
        "5*a"
      ],
      "metadata": {
        "id": "xuGrszzBZ4aE",
        "outputId": "89fd8eb0-3f41-4ca8-bd6b-092d92bb584f",
        "colab": {
          "base_uri": "https://localhost:8080/"
        }
      },
      "execution_count": 6,
      "outputs": [
        {
          "output_type": "execute_result",
          "data": {
            "text/plain": [
              "12.5"
            ]
          },
          "metadata": {},
          "execution_count": 6
        }
      ]
    },
    {
      "cell_type": "code",
      "source": [
        "ans"
      ],
      "metadata": {
        "id": "SjFN-3CwZ646",
        "outputId": "d999ba47-f389-4e5e-d317-7f80ae2dfa99",
        "colab": {
          "base_uri": "https://localhost:8080/"
        }
      },
      "execution_count": 7,
      "outputs": [
        {
          "output_type": "execute_result",
          "data": {
            "text/plain": [
              "12.5"
            ]
          },
          "metadata": {},
          "execution_count": 7
        }
      ]
    },
    {
      "cell_type": "code",
      "source": [
        "a,b = 1,2"
      ],
      "metadata": {
        "id": "z5EWjICkaEjX",
        "outputId": "42cd6c1c-1d4b-4a22-ea1b-7473aaea73bf",
        "colab": {
          "base_uri": "https://localhost:8080/"
        }
      },
      "execution_count": 8,
      "outputs": [
        {
          "output_type": "execute_result",
          "data": {
            "text/plain": [
              "(1, 2)"
            ]
          },
          "metadata": {},
          "execution_count": 8
        }
      ]
    },
    {
      "cell_type": "code",
      "source": [
        "[a,b]"
      ],
      "metadata": {
        "id": "Jj0K_fUNaHm4",
        "outputId": "ef67673d-33ea-417d-ae92-d64f326893f9",
        "colab": {
          "base_uri": "https://localhost:8080/"
        }
      },
      "execution_count": 9,
      "outputs": [
        {
          "output_type": "execute_result",
          "data": {
            "text/plain": [
              "2-element Vector{Int64}:\n",
              " 1\n",
              " 2"
            ]
          },
          "metadata": {},
          "execution_count": 9
        }
      ]
    },
    {
      "cell_type": "code",
      "source": [
        "a,b = b,a\n",
        "[a,b]"
      ],
      "metadata": {
        "id": "IClld30EaJSj",
        "outputId": "c1783bc9-d9a4-4c87-d31d-dfe465a0f326",
        "colab": {
          "base_uri": "https://localhost:8080/"
        }
      },
      "execution_count": 10,
      "outputs": [
        {
          "output_type": "execute_result",
          "data": {
            "text/plain": [
              "2-element Vector{Int64}:\n",
              " 2\n",
              " 1"
            ]
          },
          "metadata": {},
          "execution_count": 10
        }
      ]
    },
    {
      "cell_type": "code",
      "source": [
        "1 < a < 3"
      ],
      "metadata": {
        "id": "Z25aBLgSan6a",
        "outputId": "902fc307-49f2-425f-9b4b-58d3a1f43a96",
        "colab": {
          "base_uri": "https://localhost:8080/"
        }
      },
      "execution_count": 11,
      "outputs": [
        {
          "output_type": "execute_result",
          "data": {
            "text/plain": [
              "true"
            ]
          },
          "metadata": {},
          "execution_count": 11
        }
      ]
    },
    {
      "cell_type": "code",
      "source": [
        "1 < a && a < 3"
      ],
      "metadata": {
        "id": "iUHJO6-daw0S",
        "outputId": "4ad1f355-41dc-46ff-b3ee-53a3f2296ad4",
        "colab": {
          "base_uri": "https://localhost:8080/"
        }
      },
      "execution_count": 12,
      "outputs": [
        {
          "output_type": "execute_result",
          "data": {
            "text/plain": [
              "true"
            ]
          },
          "metadata": {},
          "execution_count": 12
        }
      ]
    },
    {
      "cell_type": "code",
      "source": [
        "# ternary operator\n",
        "# res = new variable\n",
        "# if a == b, then res = a, else res = b\n",
        "# in this case a == b, so res = a (res = 1)\n",
        "\n",
        "a = 1\n",
        "b = 1\n",
        "c = 2\n",
        "\n",
        "res = a==b ? a : b"
      ],
      "metadata": {
        "id": "kGlr3_Wha1q3",
        "outputId": "23a97048-e7f2-4945-fcd6-c126f6bb8a71",
        "colab": {
          "base_uri": "https://localhost:8080/"
        }
      },
      "execution_count": 13,
      "outputs": [
        {
          "output_type": "execute_result",
          "data": {
            "text/plain": [
              "1"
            ]
          },
          "metadata": {},
          "execution_count": 13
        }
      ]
    },
    {
      "cell_type": "code",
      "source": [
        "# if a == c, then print out a, otherwise print out c\n",
        "# in this case, a =/= c, so print out c (2)\n",
        "\n",
        "a == c ? a : c"
      ],
      "metadata": {
        "id": "tU6ACEe4a-M8",
        "outputId": "44ba4e7a-f60b-43bd-aeb5-8317d1f17550",
        "colab": {
          "base_uri": "https://localhost:8080/"
        }
      },
      "execution_count": 14,
      "outputs": [
        {
          "output_type": "execute_result",
          "data": {
            "text/plain": [
              "2"
            ]
          },
          "metadata": {},
          "execution_count": 14
        }
      ]
    },
    {
      "cell_type": "code",
      "source": [
        "a == c ? 1 : 10"
      ],
      "metadata": {
        "id": "nG3cR0G9bJIp",
        "outputId": "dc469d57-c11b-4c2b-bd01-ffab8198171c",
        "colab": {
          "base_uri": "https://localhost:8080/"
        }
      },
      "execution_count": 15,
      "outputs": [
        {
          "output_type": "execute_result",
          "data": {
            "text/plain": [
              "10"
            ]
          },
          "metadata": {},
          "execution_count": 15
        }
      ]
    },
    {
      "cell_type": "code",
      "source": [
        "a == c-b ? 1 : 10"
      ],
      "metadata": {
        "id": "Rpiw7QW7bOQK",
        "outputId": "07e2999b-0808-4b41-b24a-533d6e3abc74",
        "colab": {
          "base_uri": "https://localhost:8080/"
        }
      },
      "execution_count": 16,
      "outputs": [
        {
          "output_type": "execute_result",
          "data": {
            "text/plain": [
              "1"
            ]
          },
          "metadata": {},
          "execution_count": 16
        }
      ]
    },
    {
      "cell_type": "code",
      "source": [
        "# remainder\n",
        "\n",
        "99 % 10"
      ],
      "metadata": {
        "id": "ppqsHdszcJNI",
        "outputId": "63096347-1bcf-4eaf-cb60-35afa464b917",
        "colab": {
          "base_uri": "https://localhost:8080/"
        }
      },
      "execution_count": 17,
      "outputs": [
        {
          "output_type": "execute_result",
          "data": {
            "text/plain": [
              "9"
            ]
          },
          "metadata": {},
          "execution_count": 17
        }
      ]
    },
    {
      "cell_type": "markdown",
      "source": [
        "Arrays"
      ],
      "metadata": {
        "id": "871pJkTMcOxQ"
      }
    },
    {
      "cell_type": "code",
      "source": [
        "# declaration, initialization, and indexing\n",
        "\n",
        "# empty vector of double precision floats\n",
        "# floats = includes decimals\n",
        "# 64 = take up different computer memory space, different ammount of precision (can be 16, 32, 64 --> larger num = higher precision)\n",
        "# 1 = array dimension of 1 (vector)\n",
        "v = Array{Float64,1}()"
      ],
      "metadata": {
        "id": "pmZgedTRcN6p",
        "outputId": "67450507-598c-4f57-dc08-d1371194f214",
        "colab": {
          "base_uri": "https://localhost:8080/"
        }
      },
      "execution_count": 18,
      "outputs": [
        {
          "output_type": "execute_result",
          "data": {
            "text/plain": [
              "Float64[]"
            ]
          },
          "metadata": {},
          "execution_count": 18
        }
      ]
    },
    {
      "cell_type": "code",
      "source": [
        "push!(v,2.0) # push number to vector v"
      ],
      "metadata": {
        "id": "avn7PJx1c3CS",
        "outputId": "051e663f-3f4d-4042-d9da-b6cc1de63c9c",
        "colab": {
          "base_uri": "https://localhost:8080/"
        }
      },
      "execution_count": 19,
      "outputs": [
        {
          "output_type": "execute_result",
          "data": {
            "text/plain": [
              "1-element Vector{Float64}:\n",
              " 2.0"
            ]
          },
          "metadata": {},
          "execution_count": 19
        }
      ]
    },
    {
      "cell_type": "code",
      "source": [
        "v"
      ],
      "metadata": {
        "id": "hwex4v0Uc816",
        "outputId": "bc9122a8-7779-4044-fbfc-57c30155afbd",
        "colab": {
          "base_uri": "https://localhost:8080/"
        }
      },
      "execution_count": 20,
      "outputs": [
        {
          "output_type": "execute_result",
          "data": {
            "text/plain": [
              "1-element Vector{Float64}:\n",
              " 2.0"
            ]
          },
          "metadata": {},
          "execution_count": 20
        }
      ]
    },
    {
      "cell_type": "code",
      "source": [
        "push!(v, 3.6)"
      ],
      "metadata": {
        "id": "09LFXlv7c_Ck",
        "outputId": "1abafa4d-de74-46d9-c074-939632e2d458",
        "colab": {
          "base_uri": "https://localhost:8080/"
        }
      },
      "execution_count": 21,
      "outputs": [
        {
          "output_type": "execute_result",
          "data": {
            "text/plain": [
              "2-element Vector{Float64}:\n",
              " 2.0\n",
              " 3.6"
            ]
          },
          "metadata": {},
          "execution_count": 21
        }
      ]
    },
    {
      "cell_type": "code",
      "source": [
        "# create vector of size 5\n",
        "\n",
        "u = Array{Float64,1}(undef, 5) # undef = randomly generated numbers (doesn't matter what the values are, just want to create vector)"
      ],
      "metadata": {
        "id": "Udt8r12zdI0d",
        "outputId": "5ec607a3-d27a-4481-808c-a3a21f7588fb",
        "colab": {
          "base_uri": "https://localhost:8080/"
        }
      },
      "execution_count": 22,
      "outputs": [
        {
          "output_type": "execute_result",
          "data": {
            "text/plain": [
              "5-element Vector{Float64}:\n",
              " 6.95145450403847e-310\n",
              " 6.95145450404005e-310\n",
              " 6.95145450630564e-310\n",
              " 6.9514545064922e-310\n",
              " 6.95145450630406e-310"
            ]
          },
          "metadata": {},
          "execution_count": 22
        }
      ]
    },
    {
      "cell_type": "code",
      "source": [
        "# create matrix of size 3x5\n",
        "# double precision = way to store values, 64 bits to store\n",
        "# single precision = 32 bits to store\n",
        "\n",
        "U = Array{Float64, 2}(undef, 3, 5)"
      ],
      "metadata": {
        "id": "WvB-C4E7dQMz",
        "outputId": "ebb5e99e-c79f-4518-a71a-ce26e724c3d5",
        "colab": {
          "base_uri": "https://localhost:8080/"
        }
      },
      "execution_count": 23,
      "outputs": [
        {
          "output_type": "execute_result",
          "data": {
            "text/plain": [
              "3×5 Matrix{Float64}:\n",
              " 3.0e-323  1.0e-322   1.5e-322   1.8e-322   2.1e-322\n",
              " 4.0e-323  1.33e-322  1.6e-322   1.9e-322   2.17e-322\n",
              " 5.0e-323  1.4e-322   1.63e-322  2.08e-322  2.2e-322"
            ]
          },
          "metadata": {},
          "execution_count": 23
        }
      ]
    },
    {
      "cell_type": "code",
      "source": [
        "# vector of size 5, of 2.2\n",
        "\n",
        "u = fill(2.2, 5)"
      ],
      "metadata": {
        "id": "gNN9_rjPd7Ek",
        "outputId": "4d8dd289-f13c-43ed-91f3-d7c8fd02d339",
        "colab": {
          "base_uri": "https://localhost:8080/"
        }
      },
      "execution_count": 24,
      "outputs": [
        {
          "output_type": "execute_result",
          "data": {
            "text/plain": [
              "5-element Vector{Float64}:\n",
              " 2.2\n",
              " 2.2\n",
              " 2.2\n",
              " 2.2\n",
              " 2.2"
            ]
          },
          "metadata": {},
          "execution_count": 24
        }
      ]
    },
    {
      "cell_type": "code",
      "source": [
        "# vector with 5 zeros\n",
        "\n",
        "zeros(5)"
      ],
      "metadata": {
        "id": "rp8uCEycd2UB",
        "outputId": "2952f29d-1387-41dc-ab55-d33094a6b814",
        "colab": {
          "base_uri": "https://localhost:8080/"
        }
      },
      "execution_count": 25,
      "outputs": [
        {
          "output_type": "execute_result",
          "data": {
            "text/plain": [
              "5-element Vector{Float64}:\n",
              " 0.0\n",
              " 0.0\n",
              " 0.0\n",
              " 0.0\n",
              " 0.0"
            ]
          },
          "metadata": {},
          "execution_count": 25
        }
      ]
    },
    {
      "cell_type": "code",
      "source": [
        "zeros(3,5)"
      ],
      "metadata": {
        "id": "dRHTdB-NeYNd",
        "outputId": "c0501ee4-87f4-44cb-cd2b-07245b8a530c",
        "colab": {
          "base_uri": "https://localhost:8080/"
        }
      },
      "execution_count": 26,
      "outputs": [
        {
          "output_type": "execute_result",
          "data": {
            "text/plain": [
              "3×5 Matrix{Float64}:\n",
              " 0.0  0.0  0.0  0.0  0.0\n",
              " 0.0  0.0  0.0  0.0  0.0\n",
              " 0.0  0.0  0.0  0.0  0.0"
            ]
          },
          "metadata": {},
          "execution_count": 26
        }
      ]
    },
    {
      "cell_type": "code",
      "source": [
        "# create zero matrix (same size as U)\n",
        "\n",
        "zero(U)"
      ],
      "metadata": {
        "id": "kOo1WBHHeaeV",
        "outputId": "9d250d63-8b92-4e28-cc70-63e0dd90815f",
        "colab": {
          "base_uri": "https://localhost:8080/"
        }
      },
      "execution_count": 27,
      "outputs": [
        {
          "output_type": "execute_result",
          "data": {
            "text/plain": [
              "3×5 Matrix{Float64}:\n",
              " 0.0  0.0  0.0  0.0  0.0\n",
              " 0.0  0.0  0.0  0.0  0.0\n",
              " 0.0  0.0  0.0  0.0  0.0"
            ]
          },
          "metadata": {},
          "execution_count": 27
        }
      ]
    },
    {
      "cell_type": "code",
      "source": [
        "U"
      ],
      "metadata": {
        "id": "uLCyFHa1eiGB",
        "outputId": "3f0e485b-692d-4e41-bdc4-af872bc6f6af",
        "colab": {
          "base_uri": "https://localhost:8080/"
        }
      },
      "execution_count": 28,
      "outputs": [
        {
          "output_type": "execute_result",
          "data": {
            "text/plain": [
              "3×5 Matrix{Float64}:\n",
              " 3.0e-323  1.0e-322   1.5e-322   1.8e-322   2.1e-322\n",
              " 4.0e-323  1.33e-322  1.6e-322   1.9e-322   2.17e-322\n",
              " 5.0e-323  1.4e-322   1.63e-322  2.08e-322  2.2e-322"
            ]
          },
          "metadata": {},
          "execution_count": 28
        }
      ]
    },
    {
      "cell_type": "code",
      "source": [
        "ones(3,5)"
      ],
      "metadata": {
        "id": "IXOZTEZbekQV",
        "outputId": "3956c464-e71a-4ea0-8c47-6cf178e203dc",
        "colab": {
          "base_uri": "https://localhost:8080/"
        }
      },
      "execution_count": 29,
      "outputs": [
        {
          "output_type": "execute_result",
          "data": {
            "text/plain": [
              "3×5 Matrix{Float64}:\n",
              " 1.0  1.0  1.0  1.0  1.0\n",
              " 1.0  1.0  1.0  1.0  1.0\n",
              " 1.0  1.0  1.0  1.0  1.0"
            ]
          },
          "metadata": {},
          "execution_count": 29
        }
      ]
    },
    {
      "cell_type": "code",
      "source": [
        "using Random, Statistics, Distributions, LinearAlgebra, DataFrames"
      ],
      "metadata": {
        "id": "BMEsdDz3epip"
      },
      "execution_count": 30,
      "outputs": []
    },
    {
      "cell_type": "code",
      "source": [
        "# another way to install packages if run into error\n",
        "\n",
        "#using Pkg\n",
        "#Pkg.add(\"Distributions\")"
      ],
      "metadata": {
        "id": "eL_2XkVWe2fk"
      },
      "execution_count": 31,
      "outputs": []
    },
    {
      "cell_type": "code",
      "source": [
        "Random.seed!(101)"
      ],
      "metadata": {
        "id": "GZzwH0G5fFN5",
        "outputId": "ae1db925-5da6-4720-883f-23b547e19728",
        "colab": {
          "base_uri": "https://localhost:8080/"
        }
      },
      "execution_count": 32,
      "outputs": [
        {
          "output_type": "execute_result",
          "data": {
            "text/plain": [
              "TaskLocalRNG()"
            ]
          },
          "metadata": {},
          "execution_count": 32
        }
      ]
    },
    {
      "cell_type": "code",
      "source": [
        "rand(3,5) # uniform(0,1) --> uniform distribution from 0 to 1"
      ],
      "metadata": {
        "id": "W1T1bNL1fP61",
        "outputId": "0015da6d-0e95-4aa7-f006-f48d8f56e24e",
        "colab": {
          "base_uri": "https://localhost:8080/"
        }
      },
      "execution_count": 33,
      "outputs": [
        {
          "output_type": "execute_result",
          "data": {
            "text/plain": [
              "3×5 Matrix{Float64}:\n",
              " 0.908852  0.077669  0.654605  0.834604  0.859392\n",
              " 0.490837  0.936285  0.838255  0.895488  0.939604\n",
              " 0.648927  0.778036  0.235766  0.51961   0.988397"
            ]
          },
          "metadata": {},
          "execution_count": 33
        }
      ]
    },
    {
      "cell_type": "code",
      "source": [
        "randn(3,5) # standard normal"
      ],
      "metadata": {
        "id": "Y62jqyrQfTBR",
        "outputId": "2dde475e-045b-4dcd-b9b6-8fc8de5f1aa3",
        "colab": {
          "base_uri": "https://localhost:8080/"
        }
      },
      "execution_count": 34,
      "outputs": [
        {
          "output_type": "execute_result",
          "data": {
            "text/plain": [
              "3×5 Matrix{Float64}:\n",
              "  1.92234     0.308766  -0.250012  -0.156213  -0.566148\n",
              " -0.0976424  -0.514017   0.868958   1.94966   -1.88439\n",
              "  0.145262    0.111226   0.361192   1.00426   -0.21067"
            ]
          },
          "metadata": {},
          "execution_count": 34
        }
      ]
    },
    {
      "cell_type": "code",
      "source": [
        "mean(randn(1_000_000)) # '_' == ',' (1_000_000 == 1,000,000)"
      ],
      "metadata": {
        "id": "8qhL70UjffY_",
        "outputId": "d5c51b9d-2244-4238-96cf-18430a92d23f",
        "colab": {
          "base_uri": "https://localhost:8080/"
        }
      },
      "execution_count": 35,
      "outputs": [
        {
          "output_type": "execute_result",
          "data": {
            "text/plain": [
              "-8.252374275052659e-5"
            ]
          },
          "metadata": {},
          "execution_count": 35
        }
      ]
    },
    {
      "cell_type": "code",
      "source": [
        "var(randn(1_000_000))"
      ],
      "metadata": {
        "id": "d9g_CcooftH4",
        "outputId": "955c79e1-4e97-4012-e986-5aceeddce4c7",
        "colab": {
          "base_uri": "https://localhost:8080/"
        }
      },
      "execution_count": 36,
      "outputs": [
        {
          "output_type": "execute_result",
          "data": {
            "text/plain": [
              "0.9996430905257744"
            ]
          },
          "metadata": {},
          "execution_count": 36
        }
      ]
    },
    {
      "cell_type": "code",
      "source": [
        "Random.seed!(100)"
      ],
      "metadata": {
        "id": "ikRk1A2IhLXC",
        "outputId": "f50dcd14-a2dc-4a47-af27-050bc22fc49f",
        "colab": {
          "base_uri": "https://localhost:8080/"
        }
      },
      "execution_count": 37,
      "outputs": [
        {
          "output_type": "execute_result",
          "data": {
            "text/plain": [
              "TaskLocalRNG()"
            ]
          },
          "metadata": {},
          "execution_count": 37
        }
      ]
    },
    {
      "cell_type": "code",
      "source": [
        "M = rand(Binomial(2,0.5),10,20)"
      ],
      "metadata": {
        "id": "DwhOU5H-fv3Z",
        "outputId": "5f4a43a8-f5c9-4fb8-dee0-ad9ae10bd505",
        "colab": {
          "base_uri": "https://localhost:8080/"
        }
      },
      "execution_count": 38,
      "outputs": [
        {
          "output_type": "execute_result",
          "data": {
            "text/plain": [
              "10×20 Matrix{Int64}:\n",
              " 2  1  0  2  0  1  1  0  0  0  0  1  2  2  0  0  2  1  1  0\n",
              " 0  1  0  0  2  0  1  1  0  1  1  1  2  0  1  0  2  0  1  2\n",
              " 2  0  1  0  0  0  2  1  2  1  2  0  0  1  0  0  1  1  1  2\n",
              " 1  1  2  1  0  1  2  2  1  1  1  0  1  2  1  2  2  1  0  1\n",
              " 2  0  1  2  2  2  1  0  1  2  1  1  1  1  2  2  0  0  0  1\n",
              " 1  2  1  1  1  1  2  2  1  1  1  1  1  1  1  2  0  1  1  2\n",
              " 1  1  0  1  0  1  2  1  2  1  0  1  1  2  1  1  1  1  1  0\n",
              " 1  1  1  2  1  1  1  1  2  0  0  1  0  0  0  1  2  2  2  0\n",
              " 1  1  1  1  2  0  1  1  2  1  1  1  0  0  1  1  1  1  0  1\n",
              " 2  1  1  2  1  0  0  0  0  1  2  2  1  1  2  1  1  2  2  1"
            ]
          },
          "metadata": {},
          "execution_count": 38
        }
      ]
    },
    {
      "cell_type": "code",
      "source": [
        "# [row, column]\n",
        "\n",
        "M[:,1]"
      ],
      "metadata": {
        "id": "afJHncycfyzO",
        "outputId": "a2eacbc9-fd60-441b-9bfc-940a25dce5dc",
        "colab": {
          "base_uri": "https://localhost:8080/"
        }
      },
      "execution_count": 39,
      "outputs": [
        {
          "output_type": "execute_result",
          "data": {
            "text/plain": [
              "10-element Vector{Int64}:\n",
              " 2\n",
              " 0\n",
              " 2\n",
              " 1\n",
              " 2\n",
              " 1\n",
              " 1\n",
              " 1\n",
              " 1\n",
              " 2"
            ]
          },
          "metadata": {},
          "execution_count": 39
        }
      ]
    },
    {
      "cell_type": "code",
      "source": [
        "M[1,:]"
      ],
      "metadata": {
        "id": "pXu29fpygRfg",
        "outputId": "20ff2978-897a-4c9c-dd53-9aa57f318beb",
        "colab": {
          "base_uri": "https://localhost:8080/"
        }
      },
      "execution_count": 40,
      "outputs": [
        {
          "output_type": "execute_result",
          "data": {
            "text/plain": [
              "20-element Vector{Int64}:\n",
              " 2\n",
              " 1\n",
              " 0\n",
              " 2\n",
              " 0\n",
              " 1\n",
              " 1\n",
              " 0\n",
              " 0\n",
              " 0\n",
              " 0\n",
              " 1\n",
              " 2\n",
              " 2\n",
              " 0\n",
              " 0\n",
              " 2\n",
              " 1\n",
              " 1\n",
              " 0"
            ]
          },
          "metadata": {},
          "execution_count": 40
        }
      ]
    },
    {
      "cell_type": "code",
      "source": [
        "# transposing\n",
        "\n",
        "M[1,:]'"
      ],
      "metadata": {
        "id": "qgN_GxgjgYfD",
        "outputId": "62ca1a62-c531-4dbb-feb7-18d96c4820df",
        "colab": {
          "base_uri": "https://localhost:8080/"
        }
      },
      "execution_count": 41,
      "outputs": [
        {
          "output_type": "execute_result",
          "data": {
            "text/plain": [
              "1×20 adjoint(::Vector{Int64}) with eltype Int64:\n",
              " 2  1  0  2  0  1  1  0  0  0  0  1  2  2  0  0  2  1  1  0"
            ]
          },
          "metadata": {},
          "execution_count": 41
        }
      ]
    },
    {
      "cell_type": "code",
      "source": [
        "M[1,:]'M[1,:]"
      ],
      "metadata": {
        "id": "fEEW4_KygfJz",
        "outputId": "abd11013-e247-4b5f-8576-3609f3fa864e",
        "colab": {
          "base_uri": "https://localhost:8080/"
        }
      },
      "execution_count": 42,
      "outputs": [
        {
          "output_type": "execute_result",
          "data": {
            "text/plain": [
              "26"
            ]
          },
          "metadata": {},
          "execution_count": 42
        }
      ]
    },
    {
      "cell_type": "code",
      "source": [
        "M[1,:]'*M[1,:]"
      ],
      "metadata": {
        "id": "5tvowu8fgjXS",
        "outputId": "59192a42-03ca-41be-be52-04a36e150b16",
        "colab": {
          "base_uri": "https://localhost:8080/"
        }
      },
      "execution_count": 43,
      "outputs": [
        {
          "output_type": "execute_result",
          "data": {
            "text/plain": [
              "26"
            ]
          },
          "metadata": {},
          "execution_count": 43
        }
      ]
    },
    {
      "cell_type": "code",
      "source": [
        "# dot product (matrix multiplication)\n",
        "\n",
        "dot(M[1,:],M[1,:])"
      ],
      "metadata": {
        "id": "DAUl0e25gqcn",
        "outputId": "2775fa38-d6a8-489b-d821-61e91b2d9003",
        "colab": {
          "base_uri": "https://localhost:8080/"
        }
      },
      "execution_count": 44,
      "outputs": [
        {
          "output_type": "execute_result",
          "data": {
            "text/plain": [
              "26"
            ]
          },
          "metadata": {},
          "execution_count": 44
        }
      ]
    },
    {
      "cell_type": "code",
      "source": [
        "# calcualte dot product manually (square every element and then add)\n",
        "# '.' = do operation on every element in matrix\n",
        "\n",
        "M[1,:].^2"
      ],
      "metadata": {
        "id": "XS3J8vxtgtdf",
        "outputId": "db5789e7-dff6-4f89-b25b-a9c66d81ce1a",
        "colab": {
          "base_uri": "https://localhost:8080/"
        }
      },
      "execution_count": 45,
      "outputs": [
        {
          "output_type": "execute_result",
          "data": {
            "text/plain": [
              "20-element Vector{Int64}:\n",
              " 4\n",
              " 1\n",
              " 0\n",
              " 4\n",
              " 0\n",
              " 1\n",
              " 1\n",
              " 0\n",
              " 0\n",
              " 0\n",
              " 0\n",
              " 1\n",
              " 4\n",
              " 4\n",
              " 0\n",
              " 0\n",
              " 4\n",
              " 1\n",
              " 1\n",
              " 0"
            ]
          },
          "metadata": {},
          "execution_count": 45
        }
      ]
    },
    {
      "cell_type": "code",
      "source": [
        "sum(M[1,:].^2)"
      ],
      "metadata": {
        "id": "yJpJUknKgvuq",
        "outputId": "cea562cc-1423-404a-ae02-3635db12daba",
        "colab": {
          "base_uri": "https://localhost:8080/"
        }
      },
      "execution_count": 46,
      "outputs": [
        {
          "output_type": "execute_result",
          "data": {
            "text/plain": [
              "26"
            ]
          },
          "metadata": {},
          "execution_count": 46
        }
      ]
    },
    {
      "cell_type": "code",
      "source": [
        "M'M == M'*M"
      ],
      "metadata": {
        "id": "Ah81WK8RgyVG",
        "outputId": "d74682fb-2982-4482-ebc2-138f72034630",
        "colab": {
          "base_uri": "https://localhost:8080/"
        }
      },
      "execution_count": 47,
      "outputs": [
        {
          "output_type": "execute_result",
          "data": {
            "text/plain": [
              "true"
            ]
          },
          "metadata": {},
          "execution_count": 47
        }
      ]
    },
    {
      "cell_type": "code",
      "source": [
        "# identity matrix\n",
        "\n",
        "I(3)"
      ],
      "metadata": {
        "id": "XaAo5gNIg2qN",
        "outputId": "5d5f1cd5-1cc2-450f-fe89-13df8f0a7539",
        "colab": {
          "base_uri": "https://localhost:8080/"
        }
      },
      "execution_count": 48,
      "outputs": [
        {
          "output_type": "execute_result",
          "data": {
            "text/plain": [
              "3×3 Diagonal{Bool, Vector{Bool}}:\n",
              " 1  ⋅  ⋅\n",
              " ⋅  1  ⋅\n",
              " ⋅  ⋅  1"
            ]
          },
          "metadata": {},
          "execution_count": 48
        }
      ]
    },
    {
      "cell_type": "code",
      "source": [
        "1I(3)"
      ],
      "metadata": {
        "id": "vYiCUYsih1Pq",
        "outputId": "d8482557-d2e0-4731-bbfe-df4f9b9b7b91",
        "colab": {
          "base_uri": "https://localhost:8080/"
        }
      },
      "execution_count": 49,
      "outputs": [
        {
          "output_type": "execute_result",
          "data": {
            "text/plain": [
              "3×3 Diagonal{Int64, Vector{Int64}}:\n",
              " 1  ⋅  ⋅\n",
              " ⋅  1  ⋅\n",
              " ⋅  ⋅  1"
            ]
          },
          "metadata": {},
          "execution_count": 49
        }
      ]
    },
    {
      "cell_type": "code",
      "source": [
        "1.0I(2)"
      ],
      "metadata": {
        "id": "_0-LtRMMhv7W",
        "outputId": "eeb39060-7d21-40b8-fb63-b7c0dbe16a1b",
        "colab": {
          "base_uri": "https://localhost:8080/"
        }
      },
      "execution_count": 50,
      "outputs": [
        {
          "output_type": "execute_result",
          "data": {
            "text/plain": [
              "2×2 Diagonal{Float64, Vector{Float64}}:\n",
              " 1.0   ⋅ \n",
              "  ⋅   1.0"
            ]
          },
          "metadata": {},
          "execution_count": 50
        }
      ]
    },
    {
      "cell_type": "code",
      "source": [
        "A = M'M + I # don't need to specify dimensions for I (will infer same dimension)"
      ],
      "metadata": {
        "id": "r5k-DyVZh0gU",
        "outputId": "2ba2dc7f-0907-4968-b531-c242a8807fef",
        "colab": {
          "base_uri": "https://localhost:8080/"
        }
      },
      "execution_count": 51,
      "outputs": [
        {
          "output_type": "execute_result",
          "data": {
            "text/plain": [
              "20×20 Matrix{Int64}:\n",
              " 22  10  11  18  10  10  16   9  14  …  12  11  15  12  13  14  14  12  12\n",
              " 10  12   7  11   8   6  12  10   9      9   9   9   8  10  11  10   9   9\n",
              " 11   7  11  10   7   6  11   9  10      6   5   8   8  11   9   9   6   9\n",
              " 18  11  10  21  11  11  13   8  12     13  11  13  12  14  14  14  12   8\n",
              " 10   8   7  11  16   6   9   7   9     10   8   4  11  10   9   7   7  11\n",
              " 10   6   6  11   6  10  10   6   8  …   6   7   9   7  10   7   6   5   5\n",
              " 16  12  11  13   9  10  22  15  17      9  11  15  10  14  15  12  10  14\n",
              "  9  10   9   8   7   6  15  14  12      6   7   9   7  11  11   9   7  11\n",
              " 14   9  10  12   9   8  17  12  20      8   5  10   8  12  12  12   9  10\n",
              " 12   7   8  10  10   7  12   8  10      8   8   9  11  11   8   7   6  11\n",
              " 13   7   9   9   9   4  11   8   9  …   8   7   8  10   9   9   9   8  13\n",
              " 12   9   6  13  10   6   9   6   8     12   9   8  10   9  10  10  10   8\n",
              " 11   9   5  11   8   7  11   7   5      9  14  11   9   8  12   7   8   9\n",
              " 15   9   8  13   4   9  15   9  10      8  11  17   9  11  12  10   8   8\n",
              " 12   8   8  12  11   7  10   7   8     10   9   9  14  12   8   8   7  10\n",
              " 13  10  11  14  10  10  14  11  12  …   9   8  11  12  17   9  10   7  10\n",
              " 14  11   9  14   9   7  15  11  12     10  12  12   8   9  21  13  12  10\n",
              " 14  10   9  14   7   6  12   9  12     10   7  10   8  10  13  15  12   8\n",
              " 12   9   6  12   7   5  10   7   9     10   8   8   7   7  12  12  14   8\n",
              " 12   9   9   8  11   5  14  11  10      8   9   8  10  10  10   8   8  17"
            ]
          },
          "metadata": {},
          "execution_count": 51
        }
      ]
    },
    {
      "cell_type": "code",
      "source": [
        "M'M + I(20) # can specify dimensions for I but don't need to"
      ],
      "metadata": {
        "id": "0JQ4nD5niBRH",
        "outputId": "0e46c884-0068-4c8a-928a-45fe3a72fec4",
        "colab": {
          "base_uri": "https://localhost:8080/"
        }
      },
      "execution_count": 52,
      "outputs": [
        {
          "output_type": "execute_result",
          "data": {
            "text/plain": [
              "20×20 Matrix{Int64}:\n",
              " 22  10  11  18  10  10  16   9  14  …  12  11  15  12  13  14  14  12  12\n",
              " 10  12   7  11   8   6  12  10   9      9   9   9   8  10  11  10   9   9\n",
              " 11   7  11  10   7   6  11   9  10      6   5   8   8  11   9   9   6   9\n",
              " 18  11  10  21  11  11  13   8  12     13  11  13  12  14  14  14  12   8\n",
              " 10   8   7  11  16   6   9   7   9     10   8   4  11  10   9   7   7  11\n",
              " 10   6   6  11   6  10  10   6   8  …   6   7   9   7  10   7   6   5   5\n",
              " 16  12  11  13   9  10  22  15  17      9  11  15  10  14  15  12  10  14\n",
              "  9  10   9   8   7   6  15  14  12      6   7   9   7  11  11   9   7  11\n",
              " 14   9  10  12   9   8  17  12  20      8   5  10   8  12  12  12   9  10\n",
              " 12   7   8  10  10   7  12   8  10      8   8   9  11  11   8   7   6  11\n",
              " 13   7   9   9   9   4  11   8   9  …   8   7   8  10   9   9   9   8  13\n",
              " 12   9   6  13  10   6   9   6   8     12   9   8  10   9  10  10  10   8\n",
              " 11   9   5  11   8   7  11   7   5      9  14  11   9   8  12   7   8   9\n",
              " 15   9   8  13   4   9  15   9  10      8  11  17   9  11  12  10   8   8\n",
              " 12   8   8  12  11   7  10   7   8     10   9   9  14  12   8   8   7  10\n",
              " 13  10  11  14  10  10  14  11  12  …   9   8  11  12  17   9  10   7  10\n",
              " 14  11   9  14   9   7  15  11  12     10  12  12   8   9  21  13  12  10\n",
              " 14  10   9  14   7   6  12   9  12     10   7  10   8  10  13  15  12   8\n",
              " 12   9   6  12   7   5  10   7   9     10   8   8   7   7  12  12  14   8\n",
              " 12   9   9   8  11   5  14  11  10      8   9   8  10  10  10   8   8  17"
            ]
          },
          "metadata": {},
          "execution_count": 52
        }
      ]
    },
    {
      "cell_type": "code",
      "source": [
        "B = rand(3,3) + I"
      ],
      "metadata": {
        "id": "_6-glsUbiQTB",
        "outputId": "5cd414eb-a04b-4504-d169-849898c4cca7",
        "colab": {
          "base_uri": "https://localhost:8080/"
        }
      },
      "execution_count": 53,
      "outputs": [
        {
          "output_type": "execute_result",
          "data": {
            "text/plain": [
              "3×3 Matrix{Float64}:\n",
              " 1.45742     0.905428  0.428537\n",
              " 0.00450378  1.4083    0.831837\n",
              " 0.26018     0.940167  1.68669"
            ]
          },
          "metadata": {},
          "execution_count": 53
        }
      ]
    },
    {
      "cell_type": "code",
      "source": [
        "B*I"
      ],
      "metadata": {
        "id": "3YpdytaLiTvf",
        "outputId": "3f7ad071-74dc-423f-9c18-f5db91bcc039",
        "colab": {
          "base_uri": "https://localhost:8080/"
        }
      },
      "execution_count": 54,
      "outputs": [
        {
          "output_type": "execute_result",
          "data": {
            "text/plain": [
              "3×3 Matrix{Float64}:\n",
              " 1.45742     0.905428  0.428537\n",
              " 0.00450378  1.4083    0.831837\n",
              " 0.26018     0.940167  1.68669"
            ]
          },
          "metadata": {},
          "execution_count": 54
        }
      ]
    },
    {
      "cell_type": "code",
      "source": [
        "B == B*I"
      ],
      "metadata": {
        "id": "I8GGfGdHiVqA",
        "outputId": "98385b8d-bc3a-41ed-91ca-b5e09b3087cf",
        "colab": {
          "base_uri": "https://localhost:8080/"
        }
      },
      "execution_count": 55,
      "outputs": [
        {
          "output_type": "execute_result",
          "data": {
            "text/plain": [
              "true"
            ]
          },
          "metadata": {},
          "execution_count": 55
        }
      ]
    },
    {
      "cell_type": "code",
      "source": [
        "B === B*I # triple equality = whether two operations are exactly the same (even if values are the same)"
      ],
      "metadata": {
        "id": "COciBcOsiXtI",
        "outputId": "24d891fc-71ec-41df-c025-444720f3bce1",
        "colab": {
          "base_uri": "https://localhost:8080/"
        }
      },
      "execution_count": 56,
      "outputs": [
        {
          "output_type": "execute_result",
          "data": {
            "text/plain": [
              "false"
            ]
          },
          "metadata": {},
          "execution_count": 56
        }
      ]
    },
    {
      "cell_type": "code",
      "source": [
        "Diagonal(A) # all diagonal values of matrix"
      ],
      "metadata": {
        "id": "m9L3LenNihME",
        "outputId": "cbcc68c7-db77-41d2-ec10-b18b4fd36d41",
        "colab": {
          "base_uri": "https://localhost:8080/"
        }
      },
      "execution_count": 57,
      "outputs": [
        {
          "output_type": "execute_result",
          "data": {
            "text/plain": [
              "20×20 Diagonal{Int64, Vector{Int64}}:\n",
              " 22   ⋅   ⋅   ⋅   ⋅   ⋅   ⋅   ⋅   ⋅  …   ⋅   ⋅   ⋅   ⋅   ⋅   ⋅   ⋅   ⋅   ⋅\n",
              "  ⋅  12   ⋅   ⋅   ⋅   ⋅   ⋅   ⋅   ⋅      ⋅   ⋅   ⋅   ⋅   ⋅   ⋅   ⋅   ⋅   ⋅\n",
              "  ⋅   ⋅  11   ⋅   ⋅   ⋅   ⋅   ⋅   ⋅      ⋅   ⋅   ⋅   ⋅   ⋅   ⋅   ⋅   ⋅   ⋅\n",
              "  ⋅   ⋅   ⋅  21   ⋅   ⋅   ⋅   ⋅   ⋅      ⋅   ⋅   ⋅   ⋅   ⋅   ⋅   ⋅   ⋅   ⋅\n",
              "  ⋅   ⋅   ⋅   ⋅  16   ⋅   ⋅   ⋅   ⋅      ⋅   ⋅   ⋅   ⋅   ⋅   ⋅   ⋅   ⋅   ⋅\n",
              "  ⋅   ⋅   ⋅   ⋅   ⋅  10   ⋅   ⋅   ⋅  …   ⋅   ⋅   ⋅   ⋅   ⋅   ⋅   ⋅   ⋅   ⋅\n",
              "  ⋅   ⋅   ⋅   ⋅   ⋅   ⋅  22   ⋅   ⋅      ⋅   ⋅   ⋅   ⋅   ⋅   ⋅   ⋅   ⋅   ⋅\n",
              "  ⋅   ⋅   ⋅   ⋅   ⋅   ⋅   ⋅  14   ⋅      ⋅   ⋅   ⋅   ⋅   ⋅   ⋅   ⋅   ⋅   ⋅\n",
              "  ⋅   ⋅   ⋅   ⋅   ⋅   ⋅   ⋅   ⋅  20      ⋅   ⋅   ⋅   ⋅   ⋅   ⋅   ⋅   ⋅   ⋅\n",
              "  ⋅   ⋅   ⋅   ⋅   ⋅   ⋅   ⋅   ⋅   ⋅      ⋅   ⋅   ⋅   ⋅   ⋅   ⋅   ⋅   ⋅   ⋅\n",
              "  ⋅   ⋅   ⋅   ⋅   ⋅   ⋅   ⋅   ⋅   ⋅  …   ⋅   ⋅   ⋅   ⋅   ⋅   ⋅   ⋅   ⋅   ⋅\n",
              "  ⋅   ⋅   ⋅   ⋅   ⋅   ⋅   ⋅   ⋅   ⋅     12   ⋅   ⋅   ⋅   ⋅   ⋅   ⋅   ⋅   ⋅\n",
              "  ⋅   ⋅   ⋅   ⋅   ⋅   ⋅   ⋅   ⋅   ⋅      ⋅  14   ⋅   ⋅   ⋅   ⋅   ⋅   ⋅   ⋅\n",
              "  ⋅   ⋅   ⋅   ⋅   ⋅   ⋅   ⋅   ⋅   ⋅      ⋅   ⋅  17   ⋅   ⋅   ⋅   ⋅   ⋅   ⋅\n",
              "  ⋅   ⋅   ⋅   ⋅   ⋅   ⋅   ⋅   ⋅   ⋅      ⋅   ⋅   ⋅  14   ⋅   ⋅   ⋅   ⋅   ⋅\n",
              "  ⋅   ⋅   ⋅   ⋅   ⋅   ⋅   ⋅   ⋅   ⋅  …   ⋅   ⋅   ⋅   ⋅  17   ⋅   ⋅   ⋅   ⋅\n",
              "  ⋅   ⋅   ⋅   ⋅   ⋅   ⋅   ⋅   ⋅   ⋅      ⋅   ⋅   ⋅   ⋅   ⋅  21   ⋅   ⋅   ⋅\n",
              "  ⋅   ⋅   ⋅   ⋅   ⋅   ⋅   ⋅   ⋅   ⋅      ⋅   ⋅   ⋅   ⋅   ⋅   ⋅  15   ⋅   ⋅\n",
              "  ⋅   ⋅   ⋅   ⋅   ⋅   ⋅   ⋅   ⋅   ⋅      ⋅   ⋅   ⋅   ⋅   ⋅   ⋅   ⋅  14   ⋅\n",
              "  ⋅   ⋅   ⋅   ⋅   ⋅   ⋅   ⋅   ⋅   ⋅      ⋅   ⋅   ⋅   ⋅   ⋅   ⋅   ⋅   ⋅  17"
            ]
          },
          "metadata": {},
          "execution_count": 57
        }
      ]
    },
    {
      "cell_type": "code",
      "source": [
        "v = [1,2,3]\n",
        "Diagonal(v) # if use vector as input, vector becomes diagonal"
      ],
      "metadata": {
        "id": "CgqPtFrVikEu",
        "outputId": "ccedbae9-379e-4316-cff3-0b5c8226aa4c",
        "colab": {
          "base_uri": "https://localhost:8080/"
        }
      },
      "execution_count": 58,
      "outputs": [
        {
          "output_type": "execute_result",
          "data": {
            "text/plain": [
              "3×3 Diagonal{Int64, Vector{Int64}}:\n",
              " 1  ⋅  ⋅\n",
              " ⋅  2  ⋅\n",
              " ⋅  ⋅  3"
            ]
          },
          "metadata": {},
          "execution_count": 58
        }
      ]
    },
    {
      "cell_type": "code",
      "source": [
        "B = A[1:2, 3:4]"
      ],
      "metadata": {
        "id": "UHA5d-gviu6p",
        "outputId": "9fd17e9a-ac2c-4bd9-9189-212e683799fd",
        "colab": {
          "base_uri": "https://localhost:8080/"
        }
      },
      "execution_count": 59,
      "outputs": [
        {
          "output_type": "execute_result",
          "data": {
            "text/plain": [
              "2×2 Matrix{Int64}:\n",
              " 11  18\n",
              "  7  11"
            ]
          },
          "metadata": {},
          "execution_count": 59
        }
      ]
    },
    {
      "cell_type": "code",
      "source": [
        "C = A[1:2, 11:end] # end = call all the way to last column"
      ],
      "metadata": {
        "id": "_M9raNkdi1q0",
        "outputId": "48c8c61a-17b6-4d2d-d90d-eba105e3e0c1",
        "colab": {
          "base_uri": "https://localhost:8080/"
        }
      },
      "execution_count": 60,
      "outputs": [
        {
          "output_type": "execute_result",
          "data": {
            "text/plain": [
              "2×10 Matrix{Int64}:\n",
              " 13  12  11  15  12  13  14  14  12  12\n",
              "  7   9   9   9   8  10  11  10   9   9"
            ]
          },
          "metadata": {},
          "execution_count": 60
        }
      ]
    },
    {
      "cell_type": "code",
      "source": [
        "[B C] # bind two matrices by rows"
      ],
      "metadata": {
        "id": "H0XBf47ai7xi",
        "outputId": "0846e462-be81-414c-c800-60246b6395e3",
        "colab": {
          "base_uri": "https://localhost:8080/"
        }
      },
      "execution_count": 61,
      "outputs": [
        {
          "output_type": "execute_result",
          "data": {
            "text/plain": [
              "2×12 Matrix{Int64}:\n",
              " 11  18  13  12  11  15  12  13  14  14  12  12\n",
              "  7  11   7   9   9   9   8  10  11  10   9   9"
            ]
          },
          "metadata": {},
          "execution_count": 61
        }
      ]
    },
    {
      "cell_type": "code",
      "source": [
        "hcat(B, C) # function to bind two matrices horizontally"
      ],
      "metadata": {
        "id": "akz2fNqCi_GI",
        "outputId": "aad049bb-0f6e-45cc-a283-d9a3f4f43379",
        "colab": {
          "base_uri": "https://localhost:8080/"
        }
      },
      "execution_count": 62,
      "outputs": [
        {
          "output_type": "execute_result",
          "data": {
            "text/plain": [
              "2×12 Matrix{Int64}:\n",
              " 11  18  13  12  11  15  12  13  14  14  12  12\n",
              "  7  11   7   9   9   9   8  10  11  10   9   9"
            ]
          },
          "metadata": {},
          "execution_count": 62
        }
      ]
    },
    {
      "cell_type": "code",
      "source": [
        "# bind by columns\n",
        "\n",
        "[\n",
        "  A[1:2,:]\n",
        "  A[11:end,:]\n",
        "]"
      ],
      "metadata": {
        "id": "LxXqvutFjFAy",
        "outputId": "aa96c308-e992-494d-cfd3-fda6d81a7eae",
        "colab": {
          "base_uri": "https://localhost:8080/"
        }
      },
      "execution_count": 63,
      "outputs": [
        {
          "output_type": "execute_result",
          "data": {
            "text/plain": [
              "12×20 Matrix{Int64}:\n",
              " 22  10  11  18  10  10  16   9  14  …  12  11  15  12  13  14  14  12  12\n",
              " 10  12   7  11   8   6  12  10   9      9   9   9   8  10  11  10   9   9\n",
              " 13   7   9   9   9   4  11   8   9      8   7   8  10   9   9   9   8  13\n",
              " 12   9   6  13  10   6   9   6   8     12   9   8  10   9  10  10  10   8\n",
              " 11   9   5  11   8   7  11   7   5      9  14  11   9   8  12   7   8   9\n",
              " 15   9   8  13   4   9  15   9  10  …   8  11  17   9  11  12  10   8   8\n",
              " 12   8   8  12  11   7  10   7   8     10   9   9  14  12   8   8   7  10\n",
              " 13  10  11  14  10  10  14  11  12      9   8  11  12  17   9  10   7  10\n",
              " 14  11   9  14   9   7  15  11  12     10  12  12   8   9  21  13  12  10\n",
              " 14  10   9  14   7   6  12   9  12     10   7  10   8  10  13  15  12   8\n",
              " 12   9   6  12   7   5  10   7   9  …  10   8   8   7   7  12  12  14   8\n",
              " 12   9   9   8  11   5  14  11  10      8   9   8  10  10  10   8   8  17"
            ]
          },
          "metadata": {},
          "execution_count": 63
        }
      ]
    },
    {
      "cell_type": "code",
      "source": [
        "# bind vertically"
      ],
      "metadata": {
        "id": "39ZwycOfjL0X"
      },
      "execution_count": 64,
      "outputs": []
    },
    {
      "cell_type": "code",
      "source": [
        ""
      ],
      "metadata": {
        "id": "LVeJu46KIYn3"
      },
      "execution_count": 65,
      "outputs": []
    },
    {
      "cell_type": "code",
      "source": [
        "sort(M[:,1])"
      ],
      "metadata": {
        "id": "inU0kyhqIaZx",
        "outputId": "18b17b1a-ad57-403a-f243-b37442596ff9",
        "colab": {
          "base_uri": "https://localhost:8080/"
        }
      },
      "execution_count": 66,
      "outputs": [
        {
          "output_type": "execute_result",
          "data": {
            "text/plain": [
              "10-element Vector{Int64}:\n",
              " 0\n",
              " 1\n",
              " 1\n",
              " 1\n",
              " 1\n",
              " 1\n",
              " 2\n",
              " 2\n",
              " 2\n",
              " 2"
            ]
          },
          "metadata": {},
          "execution_count": 66
        }
      ]
    },
    {
      "cell_type": "code",
      "source": [
        "index = sortperm(M[:,1])"
      ],
      "metadata": {
        "id": "5_EMaCc7Ieig",
        "outputId": "6fff7aac-8940-402c-8631-11284d317ff8",
        "colab": {
          "base_uri": "https://localhost:8080/"
        }
      },
      "execution_count": 70,
      "outputs": [
        {
          "output_type": "execute_result",
          "data": {
            "text/plain": [
              "10-element Vector{Int64}:\n",
              "  2\n",
              "  4\n",
              "  6\n",
              "  7\n",
              "  8\n",
              "  9\n",
              "  1\n",
              "  3\n",
              "  5\n",
              " 10"
            ]
          },
          "metadata": {},
          "execution_count": 70
        }
      ]
    },
    {
      "cell_type": "code",
      "source": [
        "using SparseArrays, LinearAlgebra # need row index, column index, values"
      ],
      "metadata": {
        "id": "l64-c3x_IsXI"
      },
      "execution_count": 68,
      "outputs": []
    },
    {
      "cell_type": "code",
      "source": [
        "M[index,1]"
      ],
      "metadata": {
        "id": "41pwH4VpJBGO",
        "outputId": "3fe62269-ecc2-43a1-c050-8ed8699c4310",
        "colab": {
          "base_uri": "https://localhost:8080/"
        }
      },
      "execution_count": 71,
      "outputs": [
        {
          "output_type": "execute_result",
          "data": {
            "text/plain": [
              "10-element Vector{Int64}:\n",
              " 0\n",
              " 1\n",
              " 1\n",
              " 1\n",
              " 1\n",
              " 1\n",
              " 2\n",
              " 2\n",
              " 2\n",
              " 2"
            ]
          },
          "metadata": {},
          "execution_count": 71
        }
      ]
    },
    {
      "cell_type": "code",
      "source": [
        ""
      ],
      "metadata": {
        "id": "2kPzxDUXJE3Z"
      },
      "execution_count": null,
      "outputs": []
    },
    {
      "cell_type": "code",
      "source": [
        "# create sparse matrix\n",
        "\n",
        "sparse([1,2,2],[1,1,3],[9,10,11])"
      ],
      "metadata": {
        "id": "Z8SgqDB4I0Fc",
        "outputId": "d178f812-ec1a-47a9-873c-93cab4330370",
        "colab": {
          "base_uri": "https://localhost:8080/"
        }
      },
      "execution_count": 69,
      "outputs": [
        {
          "output_type": "execute_result",
          "data": {
            "text/plain": [
              "2×3 SparseMatrixCSC{Int64, Int64} with 3 stored entries:\n",
              "  9  ⋅   ⋅\n",
              " 10  ⋅  11"
            ]
          },
          "metadata": {},
          "execution_count": 69
        }
      ]
    },
    {
      "cell_type": "code",
      "source": [
        "# sparse zero matrix\n",
        "\n",
        "spzeros(2,2)"
      ],
      "metadata": {
        "id": "wvgG5DoEJDmo",
        "outputId": "dcdc6de3-f372-4ee9-9bf1-8882cdfb1bcb",
        "colab": {
          "base_uri": "https://localhost:8080/"
        }
      },
      "execution_count": 72,
      "outputs": [
        {
          "output_type": "execute_result",
          "data": {
            "text/plain": [
              "2×2 SparseMatrixCSC{Float64, Int64} with 0 stored entries:\n",
              "  ⋅    ⋅ \n",
              "  ⋅    ⋅ "
            ]
          },
          "metadata": {},
          "execution_count": 72
        }
      ]
    },
    {
      "cell_type": "code",
      "source": [
        "# sparse identity matrix\n",
        "\n",
        "N = 5\n",
        "R = sparse(1.0I,N,N)"
      ],
      "metadata": {
        "id": "_HZfcNWZJQxY",
        "outputId": "b2de81c2-73d2-4b42-ccd4-6c6476df8519",
        "colab": {
          "base_uri": "https://localhost:8080/"
        }
      },
      "execution_count": 73,
      "outputs": [
        {
          "output_type": "execute_result",
          "data": {
            "text/plain": [
              "5×5 SparseMatrixCSC{Float64, Int64} with 5 stored entries:\n",
              " 1.0   ⋅    ⋅    ⋅    ⋅ \n",
              "  ⋅   1.0   ⋅    ⋅    ⋅ \n",
              "  ⋅    ⋅   1.0   ⋅    ⋅ \n",
              "  ⋅    ⋅    ⋅   1.0   ⋅ \n",
              "  ⋅    ⋅    ⋅    ⋅   1.0"
            ]
          },
          "metadata": {},
          "execution_count": 73
        }
      ]
    },
    {
      "cell_type": "code",
      "source": [
        "for i = 1:3\n",
        "  @show i\n",
        "end"
      ],
      "metadata": {
        "id": "Mz1ox8v7KCy2",
        "outputId": "ae6191d4-a5e3-4b58-eb61-6de05734ad53",
        "colab": {
          "base_uri": "https://localhost:8080/"
        }
      },
      "execution_count": 78,
      "outputs": [
        {
          "output_type": "stream",
          "name": "stdout",
          "text": [
            "i = 1\n",
            "i = 2\n",
            "i = 3\n"
          ]
        }
      ]
    },
    {
      "cell_type": "code",
      "source": [
        "# for loop\n",
        "\n",
        "result = zero(u)\n",
        "for i=1:size(u,1)\n",
        "    result[i] = u[i] + v[i]\n",
        "end\n",
        "[u v result]"
      ],
      "metadata": {
        "id": "_8RelvbAJVXF",
        "outputId": "b1df37d1-be9f-46a5-da28-f636982171a3",
        "colab": {
          "base_uri": "https://localhost:8080/",
          "height": 252
        }
      },
      "execution_count": 77,
      "outputs": [
        {
          "output_type": "error",
          "ename": "LoadError",
          "evalue": "ignored",
          "traceback": [
            "BoundsError: attempt to access 3-element Vector{Int64} at index [4]",
            "",
            "Stacktrace:",
            " [1] getindex(A::Vector{Int64}, i1::Int64)",
            "   @ Base ./array.jl:861",
            " [2] top-level scope",
            "   @ ./In[77]:5",
            " [3] eval",
            "   @ ./boot.jl:373 [inlined]",
            " [4] include_string(mapexpr::typeof(REPL.softscope), mod::Module, code::String, filename::String)",
            "   @ Base ./loading.jl:1196"
          ]
        }
      ]
    },
    {
      "cell_type": "code",
      "source": [
        "r = range(0, step = 0.1, stop = 1)"
      ],
      "metadata": {
        "id": "VKTR4cqJKIBY",
        "outputId": "cae7a736-e103-4385-a822-e042504dc59c",
        "colab": {
          "base_uri": "https://localhost:8080/"
        }
      },
      "execution_count": 79,
      "outputs": [
        {
          "output_type": "execute_result",
          "data": {
            "text/plain": [
              "0.0:0.1:1.0"
            ]
          },
          "metadata": {},
          "execution_count": 79
        }
      ]
    },
    {
      "cell_type": "code",
      "source": [
        "typeof(r)"
      ],
      "metadata": {
        "id": "f37za933KLc3",
        "outputId": "57339783-80cc-4b15-f78c-34734ea042e4",
        "colab": {
          "base_uri": "https://localhost:8080/"
        }
      },
      "execution_count": 80,
      "outputs": [
        {
          "output_type": "execute_result",
          "data": {
            "text/plain": [
              "StepRangeLen{Float64, Base.TwicePrecision{Float64}, Base.TwicePrecision{Float64}, Int64}"
            ]
          },
          "metadata": {},
          "execution_count": 80
        }
      ]
    },
    {
      "cell_type": "code",
      "source": [
        "r = 0:0.1:1"
      ],
      "metadata": {
        "id": "dbLuWOckKNub",
        "outputId": "23813a38-3a63-47ef-f30e-70efbd9a8d9c",
        "colab": {
          "base_uri": "https://localhost:8080/"
        }
      },
      "execution_count": 81,
      "outputs": [
        {
          "output_type": "execute_result",
          "data": {
            "text/plain": [
              "0.0:0.1:1.0"
            ]
          },
          "metadata": {},
          "execution_count": 81
        }
      ]
    },
    {
      "cell_type": "code",
      "source": [
        "sin.(r) # sine; dot symbol '.' means element-wise operation"
      ],
      "metadata": {
        "id": "ngLRQOI-KRQq",
        "outputId": "1efd1198-57bd-44b3-85b6-b4d40ce84a47",
        "colab": {
          "base_uri": "https://localhost:8080/"
        }
      },
      "execution_count": 82,
      "outputs": [
        {
          "output_type": "execute_result",
          "data": {
            "text/plain": [
              "11-element Vector{Float64}:\n",
              " 0.0\n",
              " 0.09983341664682815\n",
              " 0.19866933079506122\n",
              " 0.29552020666133955\n",
              " 0.3894183423086505\n",
              " 0.479425538604203\n",
              " 0.5646424733950354\n",
              " 0.644217687237691\n",
              " 0.7173560908995228\n",
              " 0.7833269096274834\n",
              " 0.8414709848078965"
            ]
          },
          "metadata": {},
          "execution_count": 82
        }
      ]
    },
    {
      "cell_type": "code",
      "source": [
        "u"
      ],
      "metadata": {
        "id": "m1NjrmKcKrro",
        "outputId": "c1676b79-fa9f-41d6-f9e8-f4aefb805f66",
        "colab": {
          "base_uri": "https://localhost:8080/"
        }
      },
      "execution_count": 89,
      "outputs": [
        {
          "output_type": "execute_result",
          "data": {
            "text/plain": [
              "5-element Vector{Float64}:\n",
              " 2.2\n",
              " 2.2\n",
              " 2.2\n",
              " 2.2\n",
              " 2.2"
            ]
          },
          "metadata": {},
          "execution_count": 89
        }
      ]
    },
    {
      "cell_type": "code",
      "source": [
        "sum(u)"
      ],
      "metadata": {
        "id": "OoENqAtRKWZK",
        "outputId": "c132dc91-2e64-4159-e2b0-27dcf7de68b8",
        "colab": {
          "base_uri": "https://localhost:8080/"
        }
      },
      "execution_count": 86,
      "outputs": [
        {
          "output_type": "execute_result",
          "data": {
            "text/plain": [
              "11.0"
            ]
          },
          "metadata": {},
          "execution_count": 86
        }
      ]
    },
    {
      "cell_type": "code",
      "source": [
        "prod(u)"
      ],
      "metadata": {
        "id": "YSvGCJkpKlZm",
        "outputId": "af3106a4-b6ef-4f06-b95a-80a6ddfa6a3e",
        "colab": {
          "base_uri": "https://localhost:8080/"
        }
      },
      "execution_count": 87,
      "outputs": [
        {
          "output_type": "execute_result",
          "data": {
            "text/plain": [
              "51.536320000000025"
            ]
          },
          "metadata": {},
          "execution_count": 87
        }
      ]
    },
    {
      "cell_type": "code",
      "source": [
        "maximum(u)"
      ],
      "metadata": {
        "id": "7sOSLkyVKyna",
        "outputId": "d915991a-c24c-4e31-a49b-8bca7a20e6d4",
        "colab": {
          "base_uri": "https://localhost:8080/"
        }
      },
      "execution_count": 90,
      "outputs": [
        {
          "output_type": "execute_result",
          "data": {
            "text/plain": [
              "2.2"
            ]
          },
          "metadata": {},
          "execution_count": 90
        }
      ]
    },
    {
      "cell_type": "code",
      "source": [
        "minimum(u)"
      ],
      "metadata": {
        "id": "N9uTVeY7Kz4t",
        "outputId": "323cdcde-75c0-4a6f-b15c-1b4e11aa2702",
        "colab": {
          "base_uri": "https://localhost:8080/"
        }
      },
      "execution_count": 91,
      "outputs": [
        {
          "output_type": "execute_result",
          "data": {
            "text/plain": [
              "2.2"
            ]
          },
          "metadata": {},
          "execution_count": 91
        }
      ]
    },
    {
      "cell_type": "code",
      "source": [
        "mean(u)"
      ],
      "metadata": {
        "id": "zU1WIa4jK1wH",
        "outputId": "2340a928-f694-41f8-846f-71d45955eb8b",
        "colab": {
          "base_uri": "https://localhost:8080/"
        }
      },
      "execution_count": 92,
      "outputs": [
        {
          "output_type": "execute_result",
          "data": {
            "text/plain": [
              "2.2"
            ]
          },
          "metadata": {},
          "execution_count": 92
        }
      ]
    },
    {
      "cell_type": "code",
      "source": [
        "mode(u)"
      ],
      "metadata": {
        "id": "RnivN1UqK3sn",
        "outputId": "30e450ec-106c-476c-8af9-361f7b27c483",
        "colab": {
          "base_uri": "https://localhost:8080/"
        }
      },
      "execution_count": 93,
      "outputs": [
        {
          "output_type": "execute_result",
          "data": {
            "text/plain": [
              "2.2"
            ]
          },
          "metadata": {},
          "execution_count": 93
        }
      ]
    },
    {
      "cell_type": "code",
      "source": [
        "# type of M\n",
        "typeof(M)"
      ],
      "metadata": {
        "id": "43GQDAorKmu_",
        "outputId": "302ec667-00a8-4d98-c43e-b3ead46472f5",
        "colab": {
          "base_uri": "https://localhost:8080/"
        }
      },
      "execution_count": 94,
      "outputs": [
        {
          "output_type": "execute_result",
          "data": {
            "text/plain": [
              "Matrix{Int64} (alias for Array{Int64, 2})"
            ]
          },
          "metadata": {},
          "execution_count": 94
        }
      ]
    },
    {
      "cell_type": "code",
      "source": [
        "# type of v\n",
        "typeof(v)"
      ],
      "metadata": {
        "id": "PdAHDzy0KvWw",
        "outputId": "4c75c31b-1c91-46df-c347-7656706c3fc6",
        "colab": {
          "base_uri": "https://localhost:8080/"
        }
      },
      "execution_count": 95,
      "outputs": [
        {
          "output_type": "execute_result",
          "data": {
            "text/plain": [
              "Vector{Int64} (alias for Array{Int64, 1})"
            ]
          },
          "metadata": {},
          "execution_count": 95
        }
      ]
    },
    {
      "cell_type": "code",
      "source": [
        "# example of user-defined type\n",
        "\n",
        "mutable struct BankAccount # mutable = can be changed\n",
        "  accountNumber :: Int64\n",
        "  firstName :: String\n",
        "  lastName :: String\n",
        "  balance :: Float64\n",
        "end"
      ],
      "metadata": {
        "id": "hXLCZ-ILK-PY"
      },
      "execution_count": 97,
      "outputs": []
    },
    {
      "cell_type": "code",
      "source": [
        "fieldnames(BankAccount)"
      ],
      "metadata": {
        "id": "erWi8PtxLWIZ",
        "outputId": "e80f2aec-7fa6-45dd-ec01-e16095ce7290",
        "colab": {
          "base_uri": "https://localhost:8080/"
        }
      },
      "execution_count": 98,
      "outputs": [
        {
          "output_type": "execute_result",
          "data": {
            "text/plain": [
              "(:accountNumber, :firstName, :lastName, :balance)"
            ]
          },
          "metadata": {},
          "execution_count": 98
        }
      ]
    },
    {
      "cell_type": "code",
      "source": [
        "# get types of all fields\n",
        "\n",
        "BankAccount.types"
      ],
      "metadata": {
        "id": "ZKuCLIMbLZjh",
        "outputId": "9272d9d5-df3c-4c83-82e2-928af8006448",
        "colab": {
          "base_uri": "https://localhost:8080/"
        }
      },
      "execution_count": 99,
      "outputs": [
        {
          "output_type": "execute_result",
          "data": {
            "text/plain": [
              "svec(Int64, String, String, Float64)"
            ]
          },
          "metadata": {},
          "execution_count": 99
        }
      ]
    },
    {
      "cell_type": "code",
      "source": [
        "a1 = BankAccount(1234, \"Tom\", \"Smith\", 1000.0)"
      ],
      "metadata": {
        "id": "fOAn19MtLdF_",
        "outputId": "84fe0d44-c3b0-4b2d-d302-bb5dba31740e",
        "colab": {
          "base_uri": "https://localhost:8080/"
        }
      },
      "execution_count": 100,
      "outputs": [
        {
          "output_type": "execute_result",
          "data": {
            "text/plain": [
              "BankAccount(1234, \"Tom\", \"Smith\", 1000.0)"
            ]
          },
          "metadata": {},
          "execution_count": 100
        }
      ]
    },
    {
      "cell_type": "code",
      "source": [
        "a1.balance"
      ],
      "metadata": {
        "id": "PlSw_ImuLzmJ",
        "outputId": "397c12d0-fcd4-4224-bc2f-7e85220813a3",
        "colab": {
          "base_uri": "https://localhost:8080/"
        }
      },
      "execution_count": 101,
      "outputs": [
        {
          "output_type": "execute_result",
          "data": {
            "text/plain": [
              "1000.0"
            ]
          },
          "metadata": {},
          "execution_count": 101
        }
      ]
    },
    {
      "cell_type": "code",
      "source": [
        "# can modify fields of mutable struct\n",
        "\n",
        "a1.balance = 2000.50"
      ],
      "metadata": {
        "id": "IXgQzowmL1JL",
        "outputId": "d3edfdd1-f737-47ef-da95-acfd10f45e37",
        "colab": {
          "base_uri": "https://localhost:8080/"
        }
      },
      "execution_count": 102,
      "outputs": [
        {
          "output_type": "execute_result",
          "data": {
            "text/plain": [
              "2000.5"
            ]
          },
          "metadata": {},
          "execution_count": 102
        }
      ]
    },
    {
      "cell_type": "code",
      "source": [
        ""
      ],
      "metadata": {
        "id": "kqtFejZuL_d-"
      },
      "execution_count": null,
      "outputs": []
    },
    {
      "cell_type": "code",
      "source": [
        "# dictionary --> key-value pairs\n",
        "\n",
        "d = Dict{Int64,BankAccount}()"
      ],
      "metadata": {
        "id": "YEkZgOISL_1C",
        "outputId": "4be01703-c53e-4030-e10f-e5edd953cdd8",
        "colab": {
          "base_uri": "https://localhost:8080/"
        }
      },
      "execution_count": 104,
      "outputs": [
        {
          "output_type": "execute_result",
          "data": {
            "text/plain": [
              "Dict{Int64, BankAccount}()"
            ]
          },
          "metadata": {},
          "execution_count": 104
        }
      ]
    },
    {
      "cell_type": "code",
      "source": [
        "@show a1"
      ],
      "metadata": {
        "id": "YikhRUGcMWhr",
        "outputId": "a7dc4267-89b3-4ab8-84f5-20714357f889",
        "colab": {
          "base_uri": "https://localhost:8080/"
        }
      },
      "execution_count": 105,
      "outputs": [
        {
          "output_type": "stream",
          "name": "stdout",
          "text": [
            "a1 = BankAccount(1234, \"Tom\", \"Smith\", 2000.5)\n"
          ]
        },
        {
          "output_type": "execute_result",
          "data": {
            "text/plain": [
              "BankAccount(1234, \"Tom\", \"Smith\", 2000.5)"
            ]
          },
          "metadata": {},
          "execution_count": 105
        }
      ]
    },
    {
      "cell_type": "code",
      "source": [
        "d[a1.accountNumber] = a1 # add new key-value pair into dictionary: dict[value] = key\n",
        "d"
      ],
      "metadata": {
        "id": "J0MXiwNIMZEi",
        "outputId": "01c6c34a-8487-4aad-c0f5-c252abcfe0d8",
        "colab": {
          "base_uri": "https://localhost:8080/"
        }
      },
      "execution_count": 106,
      "outputs": [
        {
          "output_type": "execute_result",
          "data": {
            "text/plain": [
              "Dict{Int64, BankAccount} with 1 entry:\n",
              "  1234 => BankAccount(1234, \"Tom\", \"Smith\", 2000.5)"
            ]
          },
          "metadata": {},
          "execution_count": 106
        }
      ]
    },
    {
      "cell_type": "code",
      "source": [
        "function name_of_fcn(a;c=1) # use ';' and '=' to specify value for variable\n",
        "  a + c\n",
        "end"
      ],
      "metadata": {
        "id": "Tn9yEVlOM9jr",
        "outputId": "f78265e7-2f5e-454a-c652-cd9767fe25eb",
        "colab": {
          "base_uri": "https://localhost:8080/"
        }
      },
      "execution_count": 114,
      "outputs": [
        {
          "output_type": "execute_result",
          "data": {
            "text/plain": [
              "name_of_fcn (generic function with 3 methods)"
            ]
          },
          "metadata": {},
          "execution_count": 114
        }
      ]
    },
    {
      "cell_type": "code",
      "source": [
        "name_of_fcn(2, c = 100)"
      ],
      "metadata": {
        "id": "hAuQoyJBNZWn",
        "outputId": "70b9225a-1933-4ead-a28c-bad08e478f93",
        "colab": {
          "base_uri": "https://localhost:8080/"
        }
      },
      "execution_count": 115,
      "outputs": [
        {
          "output_type": "execute_result",
          "data": {
            "text/plain": [
              "102"
            ]
          },
          "metadata": {},
          "execution_count": 115
        }
      ]
    },
    {
      "cell_type": "code",
      "source": [
        "function addVectors(u,v)\n",
        "    if size(u,1) != size(v,1)\n",
        "        println(\"The size of u (= $(size(u,1))) is not equal to the size of v (= $(size(v,1))) \")\n",
        "        return []\n",
        "    end\n",
        "    result = zero(u)\n",
        "    for i=1:size(u,1)\n",
        "        result[i] = u[i] + v[i]\n",
        "    end\n",
        "    return result\n",
        "end"
      ],
      "metadata": {
        "id": "9EvVZVJfMeev",
        "outputId": "48886733-b567-4176-b3d2-6e68a27c4e1e",
        "colab": {
          "base_uri": "https://localhost:8080/"
        }
      },
      "execution_count": 116,
      "outputs": [
        {
          "output_type": "execute_result",
          "data": {
            "text/plain": [
              "addVectors (generic function with 1 method)"
            ]
          },
          "metadata": {},
          "execution_count": 116
        }
      ]
    },
    {
      "cell_type": "code",
      "source": [
        "# 1.7 reading and writing from files\n",
        "\n",
        "using Printf # needed for formatted print commands"
      ],
      "metadata": {
        "id": "nFI3RepdM8Oj"
      },
      "execution_count": 119,
      "outputs": []
    },
    {
      "cell_type": "code",
      "source": [
        "A = randn(5,3)"
      ],
      "metadata": {
        "id": "pH-MvfI7OR6i",
        "outputId": "7ef939a9-3d30-4679-8b25-d25d05b62032",
        "colab": {
          "base_uri": "https://localhost:8080/"
        }
      },
      "execution_count": 120,
      "outputs": [
        {
          "output_type": "execute_result",
          "data": {
            "text/plain": [
              "5×3 Matrix{Float64}:\n",
              " -0.00128422   0.797386  -0.25063\n",
              " -0.455078    -0.780157  -0.160705\n",
              "  0.0438358    2.25957   -0.270619\n",
              "  0.0978471    1.07242   -0.209595\n",
              " -1.5255       0.402236   1.29503"
            ]
          },
          "metadata": {},
          "execution_count": 120
        }
      ]
    },
    {
      "cell_type": "code",
      "source": [
        "out = open(\"outFile1.txt\",\"w\") # create an IO pathway to save/write printed values\n",
        "n,p = size(A)\n",
        "for j=1:p\n",
        "    for i=1:n\n",
        "        @printf(out,\"%10.5f \", A[i,j]) # print A[i,j] in ten characters wide\n",
        "    end\n",
        "    @printf(out,\"\\n\")\n",
        "end\n",
        "close(out)"
      ],
      "metadata": {
        "id": "0McFnAINOXbQ"
      },
      "execution_count": 131,
      "outputs": []
    },
    {
      "cell_type": "code",
      "source": [
        ";cat outFile1.txt"
      ],
      "metadata": {
        "id": "hsXxuDVhOf3h",
        "outputId": "4f38e78d-b82d-47ca-e7a5-4b672e57f8f6",
        "colab": {
          "base_uri": "https://localhost:8080/"
        }
      },
      "execution_count": 132,
      "outputs": [
        {
          "output_type": "stream",
          "name": "stdout",
          "text": [
            "  -0.00128   -0.45508    0.04384    0.09785   -1.52550 \n",
            "   0.79739   -0.78016    2.25957    1.07242    0.40224 \n",
            "  -0.25063   -0.16071   -0.27062   -0.20959    1.29503 \n"
          ]
        }
      ]
    },
    {
      "cell_type": "code",
      "source": [
        "out = open(\"outFile2.txt\",\"w\")\n",
        "n,p = size(A)\n",
        "for j=1:p\n",
        "    for i=1:n\n",
        "        print(out,A[i,j],\" \")\n",
        "    end\n",
        "    print(out,\"\\n\")\n",
        "end\n",
        "close(out)"
      ],
      "metadata": {
        "id": "5Sx-HLEpO2_E"
      },
      "execution_count": 138,
      "outputs": []
    },
    {
      "cell_type": "code",
      "source": [
        ";cat outFile2.txt"
      ],
      "metadata": {
        "id": "VEXFirH5PC6k",
        "outputId": "4b320676-f3ed-4519-a098-5cb2566b3e26",
        "colab": {
          "base_uri": "https://localhost:8080/"
        }
      },
      "execution_count": 139,
      "outputs": [
        {
          "output_type": "stream",
          "name": "stdout",
          "text": [
            "-0.0012842168187641057 -0.45507826523751904 0.04383579186329076 0.097847060132308 -1.5255039787302815 \n",
            "0.7973857818300075 -0.78015698239879 2.259565254760825 1.0724195956491567 0.40223557414246686 \n",
            "-0.25062983810260203 -0.16070527479335753 -0.2706190179832208 -0.209594841767682 1.295030109554738 \n"
          ]
        }
      ]
    },
    {
      "cell_type": "code",
      "source": [
        "out = open(\"outFile3.txt\",\"w\")\n",
        "n,p = size(A)\n",
        "for j=1:p\n",
        "    for i=1:n\n",
        "        @printf(out,\"%10.5e \", A[i,j])\n",
        "    end\n",
        "    @printf(out,\"\\n\")\n",
        "end\n",
        "close(out)"
      ],
      "metadata": {
        "id": "sYsdhAPjP1Vc"
      },
      "execution_count": 140,
      "outputs": []
    },
    {
      "cell_type": "code",
      "source": [
        ";cat outFile3.txt"
      ],
      "metadata": {
        "id": "uuBP_9GuP4db",
        "outputId": "2882be9b-8983-4678-ada8-00d3663730cc",
        "colab": {
          "base_uri": "https://localhost:8080/"
        }
      },
      "execution_count": 141,
      "outputs": [
        {
          "output_type": "stream",
          "name": "stdout",
          "text": [
            "-1.28422e-03 -4.55078e-01 4.38358e-02 9.78471e-02 -1.52550e+00 \n",
            "7.97386e-01 -7.80157e-01 2.25957e+00 1.07242e+00 4.02236e-01 \n",
            "-2.50630e-01 -1.60705e-01 -2.70619e-01 -2.09595e-01 1.29503e+00 \n"
          ]
        }
      ]
    },
    {
      "cell_type": "code",
      "source": [
        "inStream = open(\"outFile3.txt\", \"r\") # read file\n",
        "for line = eachline(inStream)\n",
        "  println(line)\n",
        "end\n",
        "close(inStream)"
      ],
      "metadata": {
        "id": "6-4GeGA5QEQl",
        "outputId": "da0eb98b-cba6-4bef-cb89-1b43eef31d37",
        "colab": {
          "base_uri": "https://localhost:8080/"
        }
      },
      "execution_count": 142,
      "outputs": [
        {
          "output_type": "stream",
          "name": "stdout",
          "text": [
            "-1.28422e-03 -4.55078e-01 4.38358e-02 9.78471e-02 -1.52550e+00 \n",
            "7.97386e-01 -7.80157e-01 2.25957e+00 1.07242e+00 4.02236e-01 \n",
            "-2.50630e-01 -1.60705e-01 -2.70619e-01 -2.09595e-01 1.29503e+00 \n"
          ]
        }
      ]
    },
    {
      "cell_type": "code",
      "source": [
        "B = Array{Float64, 2}(undef,5,3)"
      ],
      "metadata": {
        "id": "x3TsUZx0QMpV",
        "outputId": "beacaa63-dbb1-4542-dce1-ec7d89f83544",
        "colab": {
          "base_uri": "https://localhost:8080/"
        }
      },
      "execution_count": 144,
      "outputs": [
        {
          "output_type": "execute_result",
          "data": {
            "text/plain": [
              "5×3 Matrix{Float64}:\n",
              " 0.0           0.0           0.0\n",
              " 0.0           6.95145e-310  0.0\n",
              " 0.0           0.0           0.0\n",
              " 0.0           6.95142e-310  6.95146e-310\n",
              " 6.95145e-310  0.0           0.0"
            ]
          },
          "metadata": {},
          "execution_count": 144
        }
      ]
    },
    {
      "cell_type": "code",
      "source": [
        "B = zeros(5,3)"
      ],
      "metadata": {
        "id": "9Q4Dg5QOQYzF",
        "outputId": "91b368a1-5895-422c-d756-be58cd6f5113",
        "colab": {
          "base_uri": "https://localhost:8080/"
        }
      },
      "execution_count": 145,
      "outputs": [
        {
          "output_type": "execute_result",
          "data": {
            "text/plain": [
              "5×3 Matrix{Float64}:\n",
              " 0.0  0.0  0.0\n",
              " 0.0  0.0  0.0\n",
              " 0.0  0.0  0.0\n",
              " 0.0  0.0  0.0\n",
              " 0.0  0.0  0.0"
            ]
          },
          "metadata": {},
          "execution_count": 145
        }
      ]
    },
    {
      "cell_type": "code",
      "source": [
        "inStream = open(\"outFile\",\"r\")\n",
        "j = 1\n",
        "for line = eachline(inStream)\n",
        "    println(\"input at line $j:\")\n",
        "    @show(line)\n",
        "    @show(split(line))\n",
        "    @show(parse.(Float64, split(line)))\n",
        "    B[:,j] = parse.(Float64,split(line)) # split\n",
        "    j += 1\n",
        "end\n",
        "close(inStream)"
      ],
      "metadata": {
        "id": "KvrLqMvIQazK",
        "outputId": "a2d774e3-5639-406d-d641-d8684148b3c7",
        "colab": {
          "base_uri": "https://localhost:8080/"
        }
      },
      "execution_count": 147,
      "outputs": [
        {
          "output_type": "stream",
          "name": "stdout",
          "text": [
            "input at line 1:\n",
            "line = \"-1.28422e-03 -4.55078e-01 4.38358e-02 9.78471e-02 -1.52550e+00 \"\n",
            "split(line) = SubString{String}[\"-1.28422e-03\", \"-4.55078e-01\", \"4.38358e-02\", \"9.78471e-02\", \"-1.52550e+00\"]\n",
            "parse.(Float64, split(line)) = [-0.00128422, -0.455078, 0.0438358, 0.0978471, -1.5255]\n",
            "input at line 2:\n",
            "line = \"7.97386e-01 -7.80157e-01 2.25957e+00 1.07242e+00 4.02236e-01 \"\n",
            "split(line) = SubString{String}[\"7.97386e-01\", \"-7.80157e-01\", \"2.25957e+00\", \"1.07242e+00\", \"4.02236e-01\"]\n",
            "parse.(Float64, split(line)) = [0.797386, -0.780157, 2.25957, 1.07242, 0.402236]\n",
            "input at line 3:\n",
            "line = \"-2.50630e-01 -1.60705e-01 -2.70619e-01 -2.09595e-01 1.29503e+00 \"\n",
            "split(line) = SubString{String}[\"-2.50630e-01\", \"-1.60705e-01\", \"-2.70619e-01\", \"-2.09595e-01\", \"1.29503e+00\"]\n",
            "parse.(Float64, split(line)) = [-0.25063, -0.160705, -0.270619, -0.209595, 1.29503]\n"
          ]
        }
      ]
    },
    {
      "cell_type": "code",
      "source": [
        "B"
      ],
      "metadata": {
        "id": "ZDNDsPn7QdCE",
        "outputId": "0b8f9e35-1015-46ef-d2a2-563bdbddfcc2",
        "colab": {
          "base_uri": "https://localhost:8080/"
        }
      },
      "execution_count": 148,
      "outputs": [
        {
          "output_type": "execute_result",
          "data": {
            "text/plain": [
              "5×3 Matrix{Float64}:\n",
              " -0.00128422   0.797386  -0.25063\n",
              " -0.455078    -0.780157  -0.160705\n",
              "  0.0438358    2.25957   -0.270619\n",
              "  0.0978471    1.07242   -0.209595\n",
              " -1.5255       0.402236   1.29503"
            ]
          },
          "metadata": {},
          "execution_count": 148
        }
      ]
    },
    {
      "cell_type": "code",
      "source": [
        ";cat outFile1.txt"
      ],
      "metadata": {
        "id": "qve4DH1jQt9m",
        "outputId": "7a254708-b81d-443f-c06c-67cd8d7cf46d",
        "colab": {
          "base_uri": "https://localhost:8080/"
        }
      },
      "execution_count": 149,
      "outputs": [
        {
          "output_type": "stream",
          "name": "stdout",
          "text": [
            "  -0.00128   -0.45508    0.04384    0.09785   -1.52550 \n",
            "   0.79739   -0.78016    2.25957    1.07242    0.40224 \n",
            "  -0.25063   -0.16071   -0.27062   -0.20959    1.29503 \n"
          ]
        }
      ]
    },
    {
      "cell_type": "code",
      "source": [
        "# 1.8 working with data frames\n",
        "\n",
        "using DataFrames, CSV"
      ],
      "metadata": {
        "id": "XKwR47EIQzIt"
      },
      "execution_count": 150,
      "outputs": []
    },
    {
      "cell_type": "code",
      "source": [
        "mydf = DataFrame(ID=1:3, y=randn(3), m1=[0.0,1.0,2.0],m2=[2.0,2.0,1.0])"
      ],
      "metadata": {
        "id": "Qo0e13q0Q3tm",
        "outputId": "1d5d9fa1-ab10-4842-9dcf-66c7e830f2ba",
        "colab": {
          "base_uri": "https://localhost:8080/",
          "height": 153
        }
      },
      "execution_count": 151,
      "outputs": [
        {
          "output_type": "execute_result",
          "data": {
            "text/plain": [
              "\u001b[1m3×4 DataFrame\u001b[0m\n",
              "\u001b[1m Row \u001b[0m│\u001b[1m ID    \u001b[0m\u001b[1m y          \u001b[0m\u001b[1m m1      \u001b[0m\u001b[1m m2      \u001b[0m\n",
              "\u001b[1m     \u001b[0m│\u001b[90m Int64 \u001b[0m\u001b[90m Float64    \u001b[0m\u001b[90m Float64 \u001b[0m\u001b[90m Float64 \u001b[0m\n",
              "─────┼─────────────────────────────────────\n",
              "   1 │     1  -0.14198        0.0      2.0\n",
              "   2 │     2   0.0369623      1.0      2.0\n",
              "   3 │     3  -1.80024        2.0      1.0"
            ],
            "text/html": [
              "<table class=\"data-frame\"><thead><tr><th></th><th>ID</th><th>y</th><th>m1</th><th>m2</th></tr><tr><th></th><th>Int64</th><th>Float64</th><th>Float64</th><th>Float64</th></tr></thead><tbody><p>3 rows × 4 columns</p><tr><th>1</th><td>1</td><td>-0.14198</td><td>0.0</td><td>2.0</td></tr><tr><th>2</th><td>2</td><td>0.0369623</td><td>1.0</td><td>2.0</td></tr><tr><th>3</th><td>3</td><td>-1.80024</td><td>2.0</td><td>1.0</td></tr></tbody></table>"
            ],
            "text/latex": "\\begin{tabular}{r|cccc}\n\t& ID & y & m1 & m2\\\\\n\t\\hline\n\t& Int64 & Float64 & Float64 & Float64\\\\\n\t\\hline\n\t1 & 1 & -0.14198 & 0.0 & 2.0 \\\\\n\t2 & 2 & 0.0369623 & 1.0 & 2.0 \\\\\n\t3 & 3 & -1.80024 & 2.0 & 1.0 \\\\\n\\end{tabular}\n"
          },
          "metadata": {},
          "execution_count": 151
        }
      ]
    },
    {
      "cell_type": "code",
      "source": [
        "# can create data frame from matrix\n",
        "m = [0.0 2.0\n",
        "     1.0 2.0\n",
        "     2.0 1.0]\n",
        "dfnames = [\"m1\", \"m2\"]\n",
        "mydf = DataFrame(m, dfnames)"
      ],
      "metadata": {
        "id": "8tscbwC4Q_Z9",
        "outputId": "15993532-f4bc-4a0d-f9cc-daef20608db9",
        "colab": {
          "base_uri": "https://localhost:8080/",
          "height": 153
        }
      },
      "execution_count": 152,
      "outputs": [
        {
          "output_type": "execute_result",
          "data": {
            "text/plain": [
              "\u001b[1m3×2 DataFrame\u001b[0m\n",
              "\u001b[1m Row \u001b[0m│\u001b[1m m1      \u001b[0m\u001b[1m m2      \u001b[0m\n",
              "\u001b[1m     \u001b[0m│\u001b[90m Float64 \u001b[0m\u001b[90m Float64 \u001b[0m\n",
              "─────┼──────────────────\n",
              "   1 │     0.0      2.0\n",
              "   2 │     1.0      2.0\n",
              "   3 │     2.0      1.0"
            ],
            "text/html": [
              "<table class=\"data-frame\"><thead><tr><th></th><th>m1</th><th>m2</th></tr><tr><th></th><th>Float64</th><th>Float64</th></tr></thead><tbody><p>3 rows × 2 columns</p><tr><th>1</th><td>0.0</td><td>2.0</td></tr><tr><th>2</th><td>1.0</td><td>2.0</td></tr><tr><th>3</th><td>2.0</td><td>1.0</td></tr></tbody></table>"
            ],
            "text/latex": "\\begin{tabular}{r|cc}\n\t& m1 & m2\\\\\n\t\\hline\n\t& Float64 & Float64\\\\\n\t\\hline\n\t1 & 0.0 & 2.0 \\\\\n\t2 & 1.0 & 2.0 \\\\\n\t3 & 2.0 & 1.0 \\\\\n\\end{tabular}\n"
          },
          "metadata": {},
          "execution_count": 152
        }
      ]
    },
    {
      "cell_type": "code",
      "source": [
        "insertcols!(mydf, 1, :ID => 1:3) #1 means the 1st column"
      ],
      "metadata": {
        "id": "hESwwMMHRLt6",
        "outputId": "df5bfa00-3801-4e61-ee4d-c57585860884",
        "colab": {
          "base_uri": "https://localhost:8080/",
          "height": 153
        }
      },
      "execution_count": 153,
      "outputs": [
        {
          "output_type": "execute_result",
          "data": {
            "text/plain": [
              "\u001b[1m3×3 DataFrame\u001b[0m\n",
              "\u001b[1m Row \u001b[0m│\u001b[1m ID    \u001b[0m\u001b[1m m1      \u001b[0m\u001b[1m m2      \u001b[0m\n",
              "\u001b[1m     \u001b[0m│\u001b[90m Int64 \u001b[0m\u001b[90m Float64 \u001b[0m\u001b[90m Float64 \u001b[0m\n",
              "─────┼─────────────────────────\n",
              "   1 │     1      0.0      2.0\n",
              "   2 │     2      1.0      2.0\n",
              "   3 │     3      2.0      1.0"
            ],
            "text/html": [
              "<table class=\"data-frame\"><thead><tr><th></th><th>ID</th><th>m1</th><th>m2</th></tr><tr><th></th><th>Int64</th><th>Float64</th><th>Float64</th></tr></thead><tbody><p>3 rows × 3 columns</p><tr><th>1</th><td>1</td><td>0.0</td><td>2.0</td></tr><tr><th>2</th><td>2</td><td>1.0</td><td>2.0</td></tr><tr><th>3</th><td>3</td><td>2.0</td><td>1.0</td></tr></tbody></table>"
            ],
            "text/latex": "\\begin{tabular}{r|ccc}\n\t& ID & m1 & m2\\\\\n\t\\hline\n\t& Int64 & Float64 & Float64\\\\\n\t\\hline\n\t1 & 1 & 0.0 & 2.0 \\\\\n\t2 & 2 & 1.0 & 2.0 \\\\\n\t3 & 3 & 2.0 & 1.0 \\\\\n\\end{tabular}\n"
          },
          "metadata": {},
          "execution_count": 153
        }
      ]
    },
    {
      "cell_type": "code",
      "source": [
        "insertcols!(mydf, 2, :y => randn(3)) #2 means the 2nd column"
      ],
      "metadata": {
        "id": "f1-esPfFRmI-",
        "outputId": "994bdd26-ddd6-49b5-a907-fabbc2af2e5b",
        "colab": {
          "base_uri": "https://localhost:8080/",
          "height": 153
        }
      },
      "execution_count": 154,
      "outputs": [
        {
          "output_type": "execute_result",
          "data": {
            "text/plain": [
              "\u001b[1m3×4 DataFrame\u001b[0m\n",
              "\u001b[1m Row \u001b[0m│\u001b[1m ID    \u001b[0m\u001b[1m y         \u001b[0m\u001b[1m m1      \u001b[0m\u001b[1m m2      \u001b[0m\n",
              "\u001b[1m     \u001b[0m│\u001b[90m Int64 \u001b[0m\u001b[90m Float64   \u001b[0m\u001b[90m Float64 \u001b[0m\u001b[90m Float64 \u001b[0m\n",
              "─────┼────────────────────────────────────\n",
              "   1 │     1  -0.26249       0.0      2.0\n",
              "   2 │     2  -0.419363      1.0      2.0\n",
              "   3 │     3  -0.688003      2.0      1.0"
            ],
            "text/html": [
              "<table class=\"data-frame\"><thead><tr><th></th><th>ID</th><th>y</th><th>m1</th><th>m2</th></tr><tr><th></th><th>Int64</th><th>Float64</th><th>Float64</th><th>Float64</th></tr></thead><tbody><p>3 rows × 4 columns</p><tr><th>1</th><td>1</td><td>-0.26249</td><td>0.0</td><td>2.0</td></tr><tr><th>2</th><td>2</td><td>-0.419363</td><td>1.0</td><td>2.0</td></tr><tr><th>3</th><td>3</td><td>-0.688003</td><td>2.0</td><td>1.0</td></tr></tbody></table>"
            ],
            "text/latex": "\\begin{tabular}{r|cccc}\n\t& ID & y & m1 & m2\\\\\n\t\\hline\n\t& Int64 & Float64 & Float64 & Float64\\\\\n\t\\hline\n\t1 & 1 & -0.26249 & 0.0 & 2.0 \\\\\n\t2 & 2 & -0.419363 & 1.0 & 2.0 \\\\\n\t3 & 3 & -0.688003 & 2.0 & 1.0 \\\\\n\\end{tabular}\n"
          },
          "metadata": {},
          "execution_count": 154
        }
      ]
    },
    {
      "cell_type": "code",
      "source": [
        "# change type of column\n",
        "# '!' = all rows of the data frame (similar to ':' but sometimes used differently)\n",
        "# ':<name>' --> <name> specifies which column (by column name)\n",
        "\n",
        "mydf[!,:ID] = string.(mydf[!,:ID]) #change from Int64 to string"
      ],
      "metadata": {
        "id": "aj8kzibMR48C",
        "outputId": "8643c59e-4b5f-4d02-f214-37e0ec2e091b",
        "colab": {
          "base_uri": "https://localhost:8080/"
        }
      },
      "execution_count": 160,
      "outputs": [
        {
          "output_type": "execute_result",
          "data": {
            "text/plain": [
              "3-element Vector{String}:\n",
              " \"1\"\n",
              " \"2\"\n",
              " \"3\""
            ]
          },
          "metadata": {},
          "execution_count": 160
        }
      ]
    },
    {
      "cell_type": "code",
      "source": [
        "mydf"
      ],
      "metadata": {
        "id": "3rGLBK5PR92j",
        "outputId": "c0ff5a7d-21db-48e2-d88d-0492aa52aa76",
        "colab": {
          "base_uri": "https://localhost:8080/",
          "height": 153
        }
      },
      "execution_count": 161,
      "outputs": [
        {
          "output_type": "execute_result",
          "data": {
            "text/plain": [
              "\u001b[1m3×4 DataFrame\u001b[0m\n",
              "\u001b[1m Row \u001b[0m│\u001b[1m ID     \u001b[0m\u001b[1m y         \u001b[0m\u001b[1m m1      \u001b[0m\u001b[1m m2      \u001b[0m\n",
              "\u001b[1m     \u001b[0m│\u001b[90m String \u001b[0m\u001b[90m Float64   \u001b[0m\u001b[90m Float64 \u001b[0m\u001b[90m Float64 \u001b[0m\n",
              "─────┼─────────────────────────────────────\n",
              "   1 │ 1       -0.26249       0.0      2.0\n",
              "   2 │ 2       -0.419363      1.0      2.0\n",
              "   3 │ 3       -0.688003      2.0      1.0"
            ],
            "text/html": [
              "<table class=\"data-frame\"><thead><tr><th></th><th>ID</th><th>y</th><th>m1</th><th>m2</th></tr><tr><th></th><th>String</th><th>Float64</th><th>Float64</th><th>Float64</th></tr></thead><tbody><p>3 rows × 4 columns</p><tr><th>1</th><td>1</td><td>-0.26249</td><td>0.0</td><td>2.0</td></tr><tr><th>2</th><td>2</td><td>-0.419363</td><td>1.0</td><td>2.0</td></tr><tr><th>3</th><td>3</td><td>-0.688003</td><td>2.0</td><td>1.0</td></tr></tbody></table>"
            ],
            "text/latex": "\\begin{tabular}{r|cccc}\n\t& ID & y & m1 & m2\\\\\n\t\\hline\n\t& String & Float64 & Float64 & Float64\\\\\n\t\\hline\n\t1 & 1 & -0.26249 & 0.0 & 2.0 \\\\\n\t2 & 2 & -0.419363 & 1.0 & 2.0 \\\\\n\t3 & 3 & -0.688003 & 2.0 & 1.0 \\\\\n\\end{tabular}\n"
          },
          "metadata": {},
          "execution_count": 161
        }
      ]
    },
    {
      "cell_type": "code",
      "source": [
        "# save data frame as csv\n",
        "\n",
        "CSV.write(\"test.csv\", mydf)"
      ],
      "metadata": {
        "id": "4r0FLSQ7SFFj",
        "outputId": "e572d40f-a1ed-48b5-c7b1-b54a4b072706",
        "colab": {
          "base_uri": "https://localhost:8080/"
        }
      },
      "execution_count": 162,
      "outputs": [
        {
          "output_type": "execute_result",
          "data": {
            "text/plain": [
              "\"test.csv\""
            ]
          },
          "metadata": {},
          "execution_count": 162
        }
      ]
    },
    {
      "cell_type": "code",
      "source": [
        "# read data from csv files as data frame\n",
        "\n",
        "mydf=CSV.read(\"test.csv\",DataFrame)\n",
        "mydf[!,:ID] = string.(mydf[!,:ID]);\n",
        "mydf"
      ],
      "metadata": {
        "id": "oS9s7_jSSHPd",
        "outputId": "f8d182d0-a383-479a-b5fe-a37b009eb251",
        "colab": {
          "base_uri": "https://localhost:8080/",
          "height": 153
        }
      },
      "execution_count": 163,
      "outputs": [
        {
          "output_type": "execute_result",
          "data": {
            "text/plain": [
              "\u001b[1m3×4 DataFrame\u001b[0m\n",
              "\u001b[1m Row \u001b[0m│\u001b[1m ID     \u001b[0m\u001b[1m y         \u001b[0m\u001b[1m m1      \u001b[0m\u001b[1m m2      \u001b[0m\n",
              "\u001b[1m     \u001b[0m│\u001b[90m String \u001b[0m\u001b[90m Float64   \u001b[0m\u001b[90m Float64 \u001b[0m\u001b[90m Float64 \u001b[0m\n",
              "─────┼─────────────────────────────────────\n",
              "   1 │ 1       -0.26249       0.0      2.0\n",
              "   2 │ 2       -0.419363      1.0      2.0\n",
              "   3 │ 3       -0.688003      2.0      1.0"
            ],
            "text/html": [
              "<table class=\"data-frame\"><thead><tr><th></th><th>ID</th><th>y</th><th>m1</th><th>m2</th></tr><tr><th></th><th>String</th><th>Float64</th><th>Float64</th><th>Float64</th></tr></thead><tbody><p>3 rows × 4 columns</p><tr><th>1</th><td>1</td><td>-0.26249</td><td>0.0</td><td>2.0</td></tr><tr><th>2</th><td>2</td><td>-0.419363</td><td>1.0</td><td>2.0</td></tr><tr><th>3</th><td>3</td><td>-0.688003</td><td>2.0</td><td>1.0</td></tr></tbody></table>"
            ],
            "text/latex": "\\begin{tabular}{r|cccc}\n\t& ID & y & m1 & m2\\\\\n\t\\hline\n\t& String & Float64 & Float64 & Float64\\\\\n\t\\hline\n\t1 & 1 & -0.26249 & 0.0 & 2.0 \\\\\n\t2 & 2 & -0.419363 & 1.0 & 2.0 \\\\\n\t3 & 3 & -0.688003 & 2.0 & 1.0 \\\\\n\\end{tabular}\n"
          },
          "metadata": {},
          "execution_count": 163
        }
      ]
    },
    {
      "cell_type": "code",
      "source": [
        "# access columns of data frame without copying\n",
        "\n",
        "mydf[!,\"ID\"] # whole column # === mydf[!,:ID]"
      ],
      "metadata": {
        "id": "hPB_F4c1S0hw",
        "outputId": "ad35810f-d0a2-41f5-dd52-5897e3460d99",
        "colab": {
          "base_uri": "https://localhost:8080/"
        }
      },
      "execution_count": 164,
      "outputs": [
        {
          "output_type": "execute_result",
          "data": {
            "text/plain": [
              "3-element Vector{String}:\n",
              " \"1\"\n",
              " \"2\"\n",
              " \"3\""
            ]
          },
          "metadata": {},
          "execution_count": 164
        }
      ]
    },
    {
      "cell_type": "code",
      "source": [
        "mydf[!,1:2] # == mydf[!,[:ID,:y]], mydf[!,[\"ID\", \"y\"]]"
      ],
      "metadata": {
        "id": "AJqf47G2S8Mc",
        "outputId": "b30d00ea-2695-4a53-fb11-aad73e0bc6bf",
        "colab": {
          "base_uri": "https://localhost:8080/",
          "height": 153
        }
      },
      "execution_count": 168,
      "outputs": [
        {
          "output_type": "execute_result",
          "data": {
            "text/plain": [
              "\u001b[1m3×2 DataFrame\u001b[0m\n",
              "\u001b[1m Row \u001b[0m│\u001b[1m ID          \u001b[0m\u001b[1m y         \u001b[0m\n",
              "\u001b[1m     \u001b[0m│\u001b[90m String      \u001b[0m\u001b[90m Float64   \u001b[0m\n",
              "─────┼────────────────────────\n",
              "   1 │ will change  -0.26249\n",
              "   2 │ 2            -0.419363\n",
              "   3 │ 3            -0.688003"
            ],
            "text/html": [
              "<table class=\"data-frame\"><thead><tr><th></th><th>ID</th><th>y</th></tr><tr><th></th><th>String</th><th>Float64</th></tr></thead><tbody><p>3 rows × 2 columns</p><tr><th>1</th><td>will change</td><td>-0.26249</td></tr><tr><th>2</th><td>2</td><td>-0.419363</td></tr><tr><th>3</th><td>3</td><td>-0.688003</td></tr></tbody></table>"
            ],
            "text/latex": "\\begin{tabular}{r|cc}\n\t& ID & y\\\\\n\t\\hline\n\t& String & Float64\\\\\n\t\\hline\n\t1 & will change & -0.26249 \\\\\n\t2 & 2 & -0.419363 \\\\\n\t3 & 3 & -0.688003 \\\\\n\\end{tabular}\n"
          },
          "metadata": {},
          "execution_count": 168
        }
      ]
    },
    {
      "cell_type": "code",
      "source": [
        "mydf[!,[:ID,:y]]"
      ],
      "metadata": {
        "id": "N5e1FDaFS8v-",
        "outputId": "add8faf2-b3ab-4612-b0d7-2783203d3eb2",
        "colab": {
          "base_uri": "https://localhost:8080/",
          "height": 153
        }
      },
      "execution_count": 169,
      "outputs": [
        {
          "output_type": "execute_result",
          "data": {
            "text/plain": [
              "\u001b[1m3×2 DataFrame\u001b[0m\n",
              "\u001b[1m Row \u001b[0m│\u001b[1m ID          \u001b[0m\u001b[1m y         \u001b[0m\n",
              "\u001b[1m     \u001b[0m│\u001b[90m String      \u001b[0m\u001b[90m Float64   \u001b[0m\n",
              "─────┼────────────────────────\n",
              "   1 │ will change  -0.26249\n",
              "   2 │ 2            -0.419363\n",
              "   3 │ 3            -0.688003"
            ],
            "text/html": [
              "<table class=\"data-frame\"><thead><tr><th></th><th>ID</th><th>y</th></tr><tr><th></th><th>String</th><th>Float64</th></tr></thead><tbody><p>3 rows × 2 columns</p><tr><th>1</th><td>will change</td><td>-0.26249</td></tr><tr><th>2</th><td>2</td><td>-0.419363</td></tr><tr><th>3</th><td>3</td><td>-0.688003</td></tr></tbody></table>"
            ],
            "text/latex": "\\begin{tabular}{r|cc}\n\t& ID & y\\\\\n\t\\hline\n\t& String & Float64\\\\\n\t\\hline\n\t1 & will change & -0.26249 \\\\\n\t2 & 2 & -0.419363 \\\\\n\t3 & 3 & -0.688003 \\\\\n\\end{tabular}\n"
          },
          "metadata": {},
          "execution_count": 169
        }
      ]
    },
    {
      "cell_type": "code",
      "source": [
        "a=mydf[!,\"ID\"]\n",
        "a[1]=\"will change\";\n",
        "mydf # mydf's value will change as dataframe a changes, since a and mydf are just two names of the same object"
      ],
      "metadata": {
        "id": "OQvl5bTRTAV5",
        "outputId": "68ffb3f3-ec36-495b-b499-1bf5e9175fd7",
        "colab": {
          "base_uri": "https://localhost:8080/",
          "height": 153
        }
      },
      "execution_count": 172,
      "outputs": [
        {
          "output_type": "execute_result",
          "data": {
            "text/plain": [
              "\u001b[1m3×4 DataFrame\u001b[0m\n",
              "\u001b[1m Row \u001b[0m│\u001b[1m ID          \u001b[0m\u001b[1m y         \u001b[0m\u001b[1m m1      \u001b[0m\u001b[1m m2      \u001b[0m\n",
              "\u001b[1m     \u001b[0m│\u001b[90m String      \u001b[0m\u001b[90m Float64   \u001b[0m\u001b[90m Float64 \u001b[0m\u001b[90m Float64 \u001b[0m\n",
              "─────┼──────────────────────────────────────────\n",
              "   1 │ will change  -0.26249       0.0      2.0\n",
              "   2 │ 2            -0.419363      1.0      2.0\n",
              "   3 │ 3            -0.688003      2.0      1.0"
            ],
            "text/html": [
              "<table class=\"data-frame\"><thead><tr><th></th><th>ID</th><th>y</th><th>m1</th><th>m2</th></tr><tr><th></th><th>String</th><th>Float64</th><th>Float64</th><th>Float64</th></tr></thead><tbody><p>3 rows × 4 columns</p><tr><th>1</th><td>will change</td><td>-0.26249</td><td>0.0</td><td>2.0</td></tr><tr><th>2</th><td>2</td><td>-0.419363</td><td>1.0</td><td>2.0</td></tr><tr><th>3</th><td>3</td><td>-0.688003</td><td>2.0</td><td>1.0</td></tr></tbody></table>"
            ],
            "text/latex": "\\begin{tabular}{r|cccc}\n\t& ID & y & m1 & m2\\\\\n\t\\hline\n\t& String & Float64 & Float64 & Float64\\\\\n\t\\hline\n\t1 & will change & -0.26249 & 0.0 & 2.0 \\\\\n\t2 & 2 & -0.419363 & 1.0 & 2.0 \\\\\n\t3 & 3 & -0.688003 & 2.0 & 1.0 \\\\\n\\end{tabular}\n"
          },
          "metadata": {},
          "execution_count": 172
        }
      ]
    },
    {
      "cell_type": "code",
      "source": [
        "# get a copy of the column\n",
        "# can use 'copy' function with '!' instead of just ':' to be less confusing\n",
        "\n",
        "mydf[:,\"ID\"]"
      ],
      "metadata": {
        "id": "q-oK5V5YTjK9",
        "outputId": "52c31f43-8b03-47ef-c73a-3cab1b75f161",
        "colab": {
          "base_uri": "https://localhost:8080/"
        }
      },
      "execution_count": 173,
      "outputs": [
        {
          "output_type": "execute_result",
          "data": {
            "text/plain": [
              "3-element Vector{String}:\n",
              " \"will change\"\n",
              " \"2\"\n",
              " \"3\""
            ]
          },
          "metadata": {},
          "execution_count": 173
        }
      ]
    },
    {
      "cell_type": "code",
      "source": [
        "a=mydf[:,\"ID\"]\n",
        "a[1]=\"this won't change\"; #will not change because a is the copy of the column\n",
        "mydf"
      ],
      "metadata": {
        "id": "u_NqftWMT3ku",
        "outputId": "0a9d2a30-fb9a-4fc3-eb77-37d07f5a18ac",
        "colab": {
          "base_uri": "https://localhost:8080/",
          "height": 153
        }
      },
      "execution_count": 174,
      "outputs": [
        {
          "output_type": "execute_result",
          "data": {
            "text/plain": [
              "\u001b[1m3×4 DataFrame\u001b[0m\n",
              "\u001b[1m Row \u001b[0m│\u001b[1m ID          \u001b[0m\u001b[1m y         \u001b[0m\u001b[1m m1      \u001b[0m\u001b[1m m2      \u001b[0m\n",
              "\u001b[1m     \u001b[0m│\u001b[90m String      \u001b[0m\u001b[90m Float64   \u001b[0m\u001b[90m Float64 \u001b[0m\u001b[90m Float64 \u001b[0m\n",
              "─────┼──────────────────────────────────────────\n",
              "   1 │ will change  -0.26249       0.0      2.0\n",
              "   2 │ 2            -0.419363      1.0      2.0\n",
              "   3 │ 3            -0.688003      2.0      1.0"
            ],
            "text/html": [
              "<table class=\"data-frame\"><thead><tr><th></th><th>ID</th><th>y</th><th>m1</th><th>m2</th></tr><tr><th></th><th>String</th><th>Float64</th><th>Float64</th><th>Float64</th></tr></thead><tbody><p>3 rows × 4 columns</p><tr><th>1</th><td>will change</td><td>-0.26249</td><td>0.0</td><td>2.0</td></tr><tr><th>2</th><td>2</td><td>-0.419363</td><td>1.0</td><td>2.0</td></tr><tr><th>3</th><td>3</td><td>-0.688003</td><td>2.0</td><td>1.0</td></tr></tbody></table>"
            ],
            "text/latex": "\\begin{tabular}{r|cccc}\n\t& ID & y & m1 & m2\\\\\n\t\\hline\n\t& String & Float64 & Float64 & Float64\\\\\n\t\\hline\n\t1 & will change & -0.26249 & 0.0 & 2.0 \\\\\n\t2 & 2 & -0.419363 & 1.0 & 2.0 \\\\\n\t3 & 3 & -0.688003 & 2.0 & 1.0 \\\\\n\\end{tabular}\n"
          },
          "metadata": {},
          "execution_count": 174
        }
      ]
    },
    {
      "cell_type": "code",
      "source": [
        "mydf[:,:ID] = [\"a1\",\"a2\",\"a3\"]; #this will change the column\n",
        "mydf"
      ],
      "metadata": {
        "id": "dJikGIxUT4UQ",
        "outputId": "a59018a5-f499-4305-bb35-7ab74cdc4b8e",
        "colab": {
          "base_uri": "https://localhost:8080/",
          "height": 153
        }
      },
      "execution_count": 175,
      "outputs": [
        {
          "output_type": "execute_result",
          "data": {
            "text/plain": [
              "\u001b[1m3×4 DataFrame\u001b[0m\n",
              "\u001b[1m Row \u001b[0m│\u001b[1m ID     \u001b[0m\u001b[1m y         \u001b[0m\u001b[1m m1      \u001b[0m\u001b[1m m2      \u001b[0m\n",
              "\u001b[1m     \u001b[0m│\u001b[90m String \u001b[0m\u001b[90m Float64   \u001b[0m\u001b[90m Float64 \u001b[0m\u001b[90m Float64 \u001b[0m\n",
              "─────┼─────────────────────────────────────\n",
              "   1 │ a1      -0.26249       0.0      2.0\n",
              "   2 │ a2      -0.419363      1.0      2.0\n",
              "   3 │ a3      -0.688003      2.0      1.0"
            ],
            "text/html": [
              "<table class=\"data-frame\"><thead><tr><th></th><th>ID</th><th>y</th><th>m1</th><th>m2</th></tr><tr><th></th><th>String</th><th>Float64</th><th>Float64</th><th>Float64</th></tr></thead><tbody><p>3 rows × 4 columns</p><tr><th>1</th><td>a1</td><td>-0.26249</td><td>0.0</td><td>2.0</td></tr><tr><th>2</th><td>a2</td><td>-0.419363</td><td>1.0</td><td>2.0</td></tr><tr><th>3</th><td>a3</td><td>-0.688003</td><td>2.0</td><td>1.0</td></tr></tbody></table>"
            ],
            "text/latex": "\\begin{tabular}{r|cccc}\n\t& ID & y & m1 & m2\\\\\n\t\\hline\n\t& String & Float64 & Float64 & Float64\\\\\n\t\\hline\n\t1 & a1 & -0.26249 & 0.0 & 2.0 \\\\\n\t2 & a2 & -0.419363 & 1.0 & 2.0 \\\\\n\t3 & a3 & -0.688003 & 2.0 & 1.0 \\\\\n\\end{tabular}\n"
          },
          "metadata": {},
          "execution_count": 175
        }
      ]
    },
    {
      "cell_type": "code",
      "source": [
        "mydf[!,:ID] = [\"ind1\",\"ind2\",\"ind3\"]; #this will change the column\n",
        "mydf"
      ],
      "metadata": {
        "id": "z0c8hdPxT7Kf",
        "outputId": "07c9b396-477f-4827-9692-f5bbf5009bd8",
        "colab": {
          "base_uri": "https://localhost:8080/",
          "height": 153
        }
      },
      "execution_count": 176,
      "outputs": [
        {
          "output_type": "execute_result",
          "data": {
            "text/plain": [
              "\u001b[1m3×4 DataFrame\u001b[0m\n",
              "\u001b[1m Row \u001b[0m│\u001b[1m ID     \u001b[0m\u001b[1m y         \u001b[0m\u001b[1m m1      \u001b[0m\u001b[1m m2      \u001b[0m\n",
              "\u001b[1m     \u001b[0m│\u001b[90m String \u001b[0m\u001b[90m Float64   \u001b[0m\u001b[90m Float64 \u001b[0m\u001b[90m Float64 \u001b[0m\n",
              "─────┼─────────────────────────────────────\n",
              "   1 │ ind1    -0.26249       0.0      2.0\n",
              "   2 │ ind2    -0.419363      1.0      2.0\n",
              "   3 │ ind3    -0.688003      2.0      1.0"
            ],
            "text/html": [
              "<table class=\"data-frame\"><thead><tr><th></th><th>ID</th><th>y</th><th>m1</th><th>m2</th></tr><tr><th></th><th>String</th><th>Float64</th><th>Float64</th><th>Float64</th></tr></thead><tbody><p>3 rows × 4 columns</p><tr><th>1</th><td>ind1</td><td>-0.26249</td><td>0.0</td><td>2.0</td></tr><tr><th>2</th><td>ind2</td><td>-0.419363</td><td>1.0</td><td>2.0</td></tr><tr><th>3</th><td>ind3</td><td>-0.688003</td><td>2.0</td><td>1.0</td></tr></tbody></table>"
            ],
            "text/latex": "\\begin{tabular}{r|cccc}\n\t& ID & y & m1 & m2\\\\\n\t\\hline\n\t& String & Float64 & Float64 & Float64\\\\\n\t\\hline\n\t1 & ind1 & -0.26249 & 0.0 & 2.0 \\\\\n\t2 & ind2 & -0.419363 & 1.0 & 2.0 \\\\\n\t3 & ind3 & -0.688003 & 2.0 & 1.0 \\\\\n\\end{tabular}\n"
          },
          "metadata": {},
          "execution_count": 176
        }
      ]
    },
    {
      "cell_type": "code",
      "source": [
        "# indexing\n",
        "\n",
        "mydf[1:2, :y]"
      ],
      "metadata": {
        "id": "bZ5MwcrOT-7K",
        "outputId": "dc10639d-eda6-4338-924f-cf61c1d49b01",
        "colab": {
          "base_uri": "https://localhost:8080/"
        }
      },
      "execution_count": 177,
      "outputs": [
        {
          "output_type": "execute_result",
          "data": {
            "text/plain": [
              "2-element Vector{Float64}:\n",
              " -0.2624901793293144\n",
              " -0.41936328311119286"
            ]
          },
          "metadata": {},
          "execution_count": 177
        }
      ]
    },
    {
      "cell_type": "code",
      "source": [
        "mydf[1:2, [:y]]"
      ],
      "metadata": {
        "id": "RihVkYmvUZ5K",
        "outputId": "e517d81d-472f-476b-9c0b-27203c58ca4c",
        "colab": {
          "base_uri": "https://localhost:8080/",
          "height": 132
        }
      },
      "execution_count": 178,
      "outputs": [
        {
          "output_type": "execute_result",
          "data": {
            "text/plain": [
              "\u001b[1m2×1 DataFrame\u001b[0m\n",
              "\u001b[1m Row \u001b[0m│\u001b[1m y         \u001b[0m\n",
              "\u001b[1m     \u001b[0m│\u001b[90m Float64   \u001b[0m\n",
              "─────┼───────────\n",
              "   1 │ -0.26249\n",
              "   2 │ -0.419363"
            ],
            "text/html": [
              "<table class=\"data-frame\"><thead><tr><th></th><th>y</th></tr><tr><th></th><th>Float64</th></tr></thead><tbody><p>2 rows × 1 columns</p><tr><th>1</th><td>-0.26249</td></tr><tr><th>2</th><td>-0.419363</td></tr></tbody></table>"
            ],
            "text/latex": "\\begin{tabular}{r|c}\n\t& y\\\\\n\t\\hline\n\t& Float64\\\\\n\t\\hline\n\t1 & -0.26249 \\\\\n\t2 & -0.419363 \\\\\n\\end{tabular}\n"
          },
          "metadata": {},
          "execution_count": 178
        }
      ]
    },
    {
      "cell_type": "code",
      "source": [
        "mydf[1:2, [1,3]] # returns a data frame object"
      ],
      "metadata": {
        "id": "cheWWHyAUclj",
        "outputId": "0207409f-feb0-4a11-82da-062879751161",
        "colab": {
          "base_uri": "https://localhost:8080/",
          "height": 132
        }
      },
      "execution_count": 181,
      "outputs": [
        {
          "output_type": "execute_result",
          "data": {
            "text/plain": [
              "\u001b[1m2×2 DataFrame\u001b[0m\n",
              "\u001b[1m Row \u001b[0m│\u001b[1m ID     \u001b[0m\u001b[1m m1      \u001b[0m\n",
              "\u001b[1m     \u001b[0m│\u001b[90m String \u001b[0m\u001b[90m Float64 \u001b[0m\n",
              "─────┼─────────────────\n",
              "   1 │ ind1        0.0\n",
              "   2 │ ind2        1.0"
            ],
            "text/html": [
              "<table class=\"data-frame\"><thead><tr><th></th><th>ID</th><th>m1</th></tr><tr><th></th><th>String</th><th>Float64</th></tr></thead><tbody><p>2 rows × 2 columns</p><tr><th>1</th><td>ind1</td><td>0.0</td></tr><tr><th>2</th><td>ind2</td><td>1.0</td></tr></tbody></table>"
            ],
            "text/latex": "\\begin{tabular}{r|cc}\n\t& ID & m1\\\\\n\t\\hline\n\t& String & Float64\\\\\n\t\\hline\n\t1 & ind1 & 0.0 \\\\\n\t2 & ind2 & 1.0 \\\\\n\\end{tabular}\n"
          },
          "metadata": {},
          "execution_count": 181
        }
      ]
    },
    {
      "cell_type": "code",
      "source": [
        "mydf[1:2, end] # end means the last column"
      ],
      "metadata": {
        "id": "vK1b7uIAUfJV",
        "outputId": "aa04ce17-74f4-48e3-d939-944d9671103e",
        "colab": {
          "base_uri": "https://localhost:8080/"
        }
      },
      "execution_count": 182,
      "outputs": [
        {
          "output_type": "execute_result",
          "data": {
            "text/plain": [
              "2-element Vector{Float64}:\n",
              " 2.0\n",
              " 2.0"
            ]
          },
          "metadata": {},
          "execution_count": 182
        }
      ]
    },
    {
      "cell_type": "code",
      "source": [
        "mydf[1:2, [end]] # get last column as data frame"
      ],
      "metadata": {
        "id": "GXtrYz1PUsY7",
        "outputId": "18f5cbd1-e168-4edd-9a82-c900eb16ed2c",
        "colab": {
          "base_uri": "https://localhost:8080/",
          "height": 132
        }
      },
      "execution_count": 183,
      "outputs": [
        {
          "output_type": "execute_result",
          "data": {
            "text/plain": [
              "\u001b[1m2×1 DataFrame\u001b[0m\n",
              "\u001b[1m Row \u001b[0m│\u001b[1m m2      \u001b[0m\n",
              "\u001b[1m     \u001b[0m│\u001b[90m Float64 \u001b[0m\n",
              "─────┼─────────\n",
              "   1 │     2.0\n",
              "   2 │     2.0"
            ],
            "text/html": [
              "<table class=\"data-frame\"><thead><tr><th></th><th>m2</th></tr><tr><th></th><th>Float64</th></tr></thead><tbody><p>2 rows × 1 columns</p><tr><th>1</th><td>2.0</td></tr><tr><th>2</th><td>2.0</td></tr></tbody></table>"
            ],
            "text/latex": "\\begin{tabular}{r|c}\n\t& m2\\\\\n\t\\hline\n\t& Float64\\\\\n\t\\hline\n\t1 & 2.0 \\\\\n\t2 & 2.0 \\\\\n\\end{tabular}\n"
          },
          "metadata": {},
          "execution_count": 183
        }
      ]
    },
    {
      "cell_type": "code",
      "source": [
        "# data frame to matrix\n",
        "\n",
        "Matrix(mydf[:,[:m1,:m2]]) # == Matrix(mydf[!,[:m1,:m2]])"
      ],
      "metadata": {
        "id": "U_f_MK88U09X",
        "outputId": "a9723f7a-3c37-4180-bf86-f0aed7802eee",
        "colab": {
          "base_uri": "https://localhost:8080/"
        }
      },
      "execution_count": 186,
      "outputs": [
        {
          "output_type": "execute_result",
          "data": {
            "text/plain": [
              "3×2 Matrix{Float64}:\n",
              " 0.0  2.0\n",
              " 1.0  2.0\n",
              " 2.0  1.0"
            ]
          },
          "metadata": {},
          "execution_count": 186
        }
      ]
    },
    {
      "cell_type": "code",
      "source": [
        "# get basic information about data frame\n",
        "\n",
        "size(mydf)"
      ],
      "metadata": {
        "id": "Gu3ivlwNU_4h",
        "outputId": "1e19ac83-ace8-4700-9d65-f0727b79d238",
        "colab": {
          "base_uri": "https://localhost:8080/"
        }
      },
      "execution_count": 185,
      "outputs": [
        {
          "output_type": "execute_result",
          "data": {
            "text/plain": [
              "(3, 4)"
            ]
          },
          "metadata": {},
          "execution_count": 185
        }
      ]
    },
    {
      "cell_type": "code",
      "source": [
        "size(mydf, 1) # number of rows (also works for matrix)"
      ],
      "metadata": {
        "id": "AM_51V5TVCP7",
        "outputId": "687b3df2-6554-46d0-92ec-10da4c2cf77b",
        "colab": {
          "base_uri": "https://localhost:8080/"
        }
      },
      "execution_count": 187,
      "outputs": [
        {
          "output_type": "execute_result",
          "data": {
            "text/plain": [
              "3"
            ]
          },
          "metadata": {},
          "execution_count": 187
        }
      ]
    },
    {
      "cell_type": "code",
      "source": [
        "size(mydf, 2) # number of columns (also works for matrix)"
      ],
      "metadata": {
        "id": "L5oDDWbwVJCi",
        "outputId": "a6d98358-bf21-4d61-f69f-f30d72dd6887",
        "colab": {
          "base_uri": "https://localhost:8080/"
        }
      },
      "execution_count": 188,
      "outputs": [
        {
          "output_type": "execute_result",
          "data": {
            "text/plain": [
              "4"
            ]
          },
          "metadata": {},
          "execution_count": 188
        }
      ]
    },
    {
      "cell_type": "code",
      "source": [
        "nrow(mydf) # only works for data frame"
      ],
      "metadata": {
        "id": "PJjOI3sVVM52",
        "outputId": "971df901-aa35-4b98-f13d-7cb3fad14455",
        "colab": {
          "base_uri": "https://localhost:8080/"
        }
      },
      "execution_count": 189,
      "outputs": [
        {
          "output_type": "execute_result",
          "data": {
            "text/plain": [
              "3"
            ]
          },
          "metadata": {},
          "execution_count": 189
        }
      ]
    },
    {
      "cell_type": "code",
      "source": [
        "ncol(mydf) # only works for data frame"
      ],
      "metadata": {
        "id": "ThehoaeEVPNv",
        "outputId": "408239f1-2be4-4022-bd60-425011b155b9",
        "colab": {
          "base_uri": "https://localhost:8080/"
        }
      },
      "execution_count": 190,
      "outputs": [
        {
          "output_type": "execute_result",
          "data": {
            "text/plain": [
              "4"
            ]
          },
          "metadata": {},
          "execution_count": 190
        }
      ]
    },
    {
      "cell_type": "code",
      "source": [
        "first(mydf, 2) # show the first 2 rows of dataframe"
      ],
      "metadata": {
        "id": "9l9buwCPVRiK",
        "outputId": "631e9b24-b1bf-47a0-e7dc-83bca86329c8",
        "colab": {
          "base_uri": "https://localhost:8080/",
          "height": 132
        }
      },
      "execution_count": 191,
      "outputs": [
        {
          "output_type": "execute_result",
          "data": {
            "text/plain": [
              "\u001b[1m2×4 DataFrame\u001b[0m\n",
              "\u001b[1m Row \u001b[0m│\u001b[1m ID     \u001b[0m\u001b[1m y         \u001b[0m\u001b[1m m1      \u001b[0m\u001b[1m m2      \u001b[0m\n",
              "\u001b[1m     \u001b[0m│\u001b[90m String \u001b[0m\u001b[90m Float64   \u001b[0m\u001b[90m Float64 \u001b[0m\u001b[90m Float64 \u001b[0m\n",
              "─────┼─────────────────────────────────────\n",
              "   1 │ ind1    -0.26249       0.0      2.0\n",
              "   2 │ ind2    -0.419363      1.0      2.0"
            ],
            "text/html": [
              "<table class=\"data-frame\"><thead><tr><th></th><th>ID</th><th>y</th><th>m1</th><th>m2</th></tr><tr><th></th><th>String</th><th>Float64</th><th>Float64</th><th>Float64</th></tr></thead><tbody><p>2 rows × 4 columns</p><tr><th>1</th><td>ind1</td><td>-0.26249</td><td>0.0</td><td>2.0</td></tr><tr><th>2</th><td>ind2</td><td>-0.419363</td><td>1.0</td><td>2.0</td></tr></tbody></table>"
            ],
            "text/latex": "\\begin{tabular}{r|cccc}\n\t& ID & y & m1 & m2\\\\\n\t\\hline\n\t& String & Float64 & Float64 & Float64\\\\\n\t\\hline\n\t1 & ind1 & -0.26249 & 0.0 & 2.0 \\\\\n\t2 & ind2 & -0.419363 & 1.0 & 2.0 \\\\\n\\end{tabular}\n"
          },
          "metadata": {},
          "execution_count": 191
        }
      ]
    },
    {
      "cell_type": "code",
      "source": [
        "last(mydf, 3) # show the last 3 rows of data frame"
      ],
      "metadata": {
        "id": "Tq5ryN-0VVdM",
        "outputId": "84be78bc-f52a-4d28-e0c7-eb4c4528ad79",
        "colab": {
          "base_uri": "https://localhost:8080/",
          "height": 153
        }
      },
      "execution_count": 192,
      "outputs": [
        {
          "output_type": "execute_result",
          "data": {
            "text/plain": [
              "\u001b[1m3×4 DataFrame\u001b[0m\n",
              "\u001b[1m Row \u001b[0m│\u001b[1m ID     \u001b[0m\u001b[1m y         \u001b[0m\u001b[1m m1      \u001b[0m\u001b[1m m2      \u001b[0m\n",
              "\u001b[1m     \u001b[0m│\u001b[90m String \u001b[0m\u001b[90m Float64   \u001b[0m\u001b[90m Float64 \u001b[0m\u001b[90m Float64 \u001b[0m\n",
              "─────┼─────────────────────────────────────\n",
              "   1 │ ind1    -0.26249       0.0      2.0\n",
              "   2 │ ind2    -0.419363      1.0      2.0\n",
              "   3 │ ind3    -0.688003      2.0      1.0"
            ],
            "text/html": [
              "<table class=\"data-frame\"><thead><tr><th></th><th>ID</th><th>y</th><th>m1</th><th>m2</th></tr><tr><th></th><th>String</th><th>Float64</th><th>Float64</th><th>Float64</th></tr></thead><tbody><p>3 rows × 4 columns</p><tr><th>1</th><td>ind1</td><td>-0.26249</td><td>0.0</td><td>2.0</td></tr><tr><th>2</th><td>ind2</td><td>-0.419363</td><td>1.0</td><td>2.0</td></tr><tr><th>3</th><td>ind3</td><td>-0.688003</td><td>2.0</td><td>1.0</td></tr></tbody></table>"
            ],
            "text/latex": "\\begin{tabular}{r|cccc}\n\t& ID & y & m1 & m2\\\\\n\t\\hline\n\t& String & Float64 & Float64 & Float64\\\\\n\t\\hline\n\t1 & ind1 & -0.26249 & 0.0 & 2.0 \\\\\n\t2 & ind2 & -0.419363 & 1.0 & 2.0 \\\\\n\t3 & ind3 & -0.688003 & 2.0 & 1.0 \\\\\n\\end{tabular}\n"
          },
          "metadata": {},
          "execution_count": 192
        }
      ]
    },
    {
      "cell_type": "code",
      "source": [
        "first(Matrix(mydf), 2) # show the first 2 elements of data frame"
      ],
      "metadata": {
        "id": "yRYCdnOvVZfu",
        "outputId": "d028c93f-69c2-43f3-9d48-e55a6be652e7",
        "colab": {
          "base_uri": "https://localhost:8080/"
        }
      },
      "execution_count": 194,
      "outputs": [
        {
          "output_type": "execute_result",
          "data": {
            "text/plain": [
              "2-element Vector{Any}:\n",
              " \"ind1\"\n",
              " \"ind2\""
            ]
          },
          "metadata": {},
          "execution_count": 194
        }
      ]
    },
    {
      "cell_type": "code",
      "source": [
        "last(Matrix(mydf), 4) # show the last 4 elements of data frame"
      ],
      "metadata": {
        "id": "1LliCDKyVdLY",
        "outputId": "612d7790-4ead-4526-acf6-2f30a69a7d64",
        "colab": {
          "base_uri": "https://localhost:8080/"
        }
      },
      "execution_count": 195,
      "outputs": [
        {
          "output_type": "execute_result",
          "data": {
            "text/plain": [
              "4-element Vector{Any}:\n",
              " 2.0\n",
              " 2.0\n",
              " 2.0\n",
              " 1.0"
            ]
          },
          "metadata": {},
          "execution_count": 195
        }
      ]
    }
  ],
  "metadata": {
    "accelerator": "GPU",
    "colab": {
      "collapsed_sections": [],
      "name": "Julia_colab.ipynb",
      "provenance": [],
      "toc_visible": true
    },
    "kernelspec": {
      "display_name": "Julia",
      "language": "julia",
      "name": "julia"
    },
    "language_info": {
      "file_extension": ".jl",
      "mimetype": "application/julia",
      "name": "julia"
    }
  },
  "nbformat": 4,
  "nbformat_minor": 0
}