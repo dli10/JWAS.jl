{
  "cells": [
    {
      "cell_type": "code",
      "execution_count": null,
      "metadata": {
        "colab": {
          "base_uri": "https://localhost:8080/"
        },
        "id": "GIeFXS0F0zww",
        "outputId": "bba09b90-78e0-4fcb-c345-022813ff0453"
      },
      "outputs": [
        {
          "output_type": "stream",
          "name": "stdout",
          "text": [
            "Installing Julia 1.7.1 on the current Colab Runtime...\n",
            "2022-08-01 04:12:08 URL:https://storage.googleapis.com/julialang2/bin/linux/x64/1.7/julia-1.7.1-linux-x86_64.tar.gz [123374573/123374573] -> \"/tmp/julia.tar.gz\" [1]\n",
            "Installing Julia package IJulia...\n",
            "Installing Julia package CSV...\n",
            "Installing Julia package DataFrames...\n",
            "Installing Julia package Random...\n",
            "Installing Julia package Statistics...\n",
            "Installing Julia package JWAS...\n",
            "Installing IJulia kernel...\n",
            "\u001b[36m\u001b[1m[ \u001b[22m\u001b[39m\u001b[36m\u001b[1mInfo: \u001b[22m\u001b[39mInstalling julia kernelspec in /root/.local/share/jupyter/kernels/julia-1.7\n",
            "\n",
            "Successfully installed julia version 1.7.1!\n",
            "Please reload this page (press Ctrl+R, ⌘+R, or the F5 key) then\n",
            "jump to the 'Checking the Installation' section.\n"
          ]
        },
        {
          "output_type": "execute_result",
          "data": {
            "text/plain": [
              ""
            ]
          },
          "metadata": {},
          "execution_count": 1
        }
      ],
      "source": [
        "%%shell\n",
        "set -e\n",
        "\n",
        "#---------------------------------------------------#\n",
        "JULIA_VERSION=\"1.7.1\" # any version ≥ 0.7.0\n",
        "JULIA_PACKAGES=\"IJulia CSV DataFrames Random Statistics Distributions LinearAlgebra SparseArrays Printf JWAS\"  # CSV DataFrames Random Statistics JWAS Distributions LinearAlgebra\n",
        "JULIA_PACKAGES_IF_GPU=\"\"\n",
        "JULIA_NUM_THREADS=4\n",
        "#---------------------------------------------------#\n",
        "\n",
        "if [ -n \"$COLAB_GPU\" ] && [ -z `which julia` ]; then\n",
        "  # Install Julia\n",
        "  JULIA_VER=`cut -d '.' -f -2 <<< \"$JULIA_VERSION\"`\n",
        "  echo \"Installing Julia $JULIA_VERSION on the current Colab Runtime...\"\n",
        "  BASE_URL=\"https://julialang-s3.julialang.org/bin/linux/x64\"\n",
        "  URL=\"$BASE_URL/$JULIA_VER/julia-$JULIA_VERSION-linux-x86_64.tar.gz\"\n",
        "  wget -nv $URL -O /tmp/julia.tar.gz # -nv means \"not verbose\"\n",
        "  tar -x -f /tmp/julia.tar.gz -C /usr/local --strip-components 1\n",
        "  rm /tmp/julia.tar.gz\n",
        "\n",
        "  # Install Packages\n",
        "  if [ \"$COLAB_GPU\" = \"1\" ]; then\n",
        "      JULIA_PACKAGES=\"$JULIA_PACKAGES $JULIA_PACKAGES_IF_GPU\"\n",
        "  fi\n",
        "  for PKG in `echo $JULIA_PACKAGES`; do\n",
        "    echo \"Installing Julia package $PKG...\"\n",
        "    julia -e 'using Pkg; pkg\"add '$PKG'; precompile;\"' &> /dev/null\n",
        "  done\n",
        "\n",
        "  # Install kernel and rename it to \"julia\"\n",
        "  echo \"Installing IJulia kernel...\"\n",
        "  julia -e 'using IJulia; IJulia.installkernel(\"julia\", env=Dict(\n",
        "      \"JULIA_NUM_THREADS\"=>\"'\"$JULIA_NUM_THREADS\"'\"))'\n",
        "  KERNEL_DIR=`julia -e \"using IJulia; print(IJulia.kerneldir())\"`\n",
        "  KERNEL_NAME=`ls -d \"$KERNEL_DIR\"/julia*`\n",
        "  mv -f $KERNEL_NAME \"$KERNEL_DIR\"/julia  \n",
        "\n",
        "  echo ''\n",
        "  echo \"Successfully installed `julia -v`!\"\n",
        "  echo \"Please reload this page (press Ctrl+R, ⌘+R, or the F5 key) then\"\n",
        "  echo \"jump to the 'Checking the Installation' section.\"\n",
        "fi"
      ]
    },
    {
      "cell_type": "code",
      "execution_count": 1,
      "metadata": {
        "colab": {
          "base_uri": "https://localhost:8080/"
        },
        "id": "EEzvvzCl1i0F",
        "outputId": "602a5845-ccf8-4739-edbe-1bfb8a4b453e"
      },
      "outputs": [
        {
          "output_type": "stream",
          "name": "stdout",
          "text": [
            "Julia Version 1.7.1\n",
            "Commit ac5cc99908 (2021-12-22 19:35 UTC)\n",
            "Platform Info:\n",
            "  OS: Linux (x86_64-pc-linux-gnu)\n",
            "  CPU: Intel(R) Xeon(R) CPU @ 2.20GHz\n",
            "  WORD_SIZE: 64\n",
            "  LIBM: libopenlibm\n",
            "  LLVM: libLLVM-12.0.1 (ORCJIT, broadwell)\n",
            "Environment:\n",
            "  JULIA_NUM_THREADS = 4\n"
          ]
        }
      ],
      "source": [
        "versioninfo()"
      ]
    },
    {
      "cell_type": "code",
      "source": [
        "a = 2.5"
      ],
      "metadata": {
        "id": "ChaVU2trZ099",
        "outputId": "670582bc-9022-4ab4-b98a-0f441e6aaf37",
        "colab": {
          "base_uri": "https://localhost:8080/"
        }
      },
      "execution_count": 10,
      "outputs": [
        {
          "output_type": "execute_result",
          "data": {
            "text/plain": [
              "2.5"
            ]
          },
          "metadata": {},
          "execution_count": 10
        }
      ]
    },
    {
      "cell_type": "code",
      "source": [
        "5a"
      ],
      "metadata": {
        "id": "Aq1h3AjzaOVR",
        "outputId": "ee8a991f-99ab-4bef-d4f5-c8aec5e49732",
        "colab": {
          "base_uri": "https://localhost:8080/"
        }
      },
      "execution_count": 11,
      "outputs": [
        {
          "output_type": "execute_result",
          "data": {
            "text/plain": [
              "12.5"
            ]
          },
          "metadata": {},
          "execution_count": 11
        }
      ]
    },
    {
      "cell_type": "code",
      "source": [
        "5*a"
      ],
      "metadata": {
        "id": "xuGrszzBZ4aE",
        "outputId": "45934b9a-c76c-478a-de94-fa8a20ffda28",
        "colab": {
          "base_uri": "https://localhost:8080/"
        }
      },
      "execution_count": 7,
      "outputs": [
        {
          "output_type": "execute_result",
          "data": {
            "text/plain": [
              "12.5"
            ]
          },
          "metadata": {},
          "execution_count": 7
        }
      ]
    },
    {
      "cell_type": "code",
      "source": [
        "ans"
      ],
      "metadata": {
        "id": "SjFN-3CwZ646"
      },
      "execution_count": 8,
      "outputs": []
    },
    {
      "cell_type": "code",
      "source": [
        "a,b = 1,2"
      ],
      "metadata": {
        "id": "z5EWjICkaEjX",
        "outputId": "d9670640-38c3-480c-8fe1-5d18db6da23e",
        "colab": {
          "base_uri": "https://localhost:8080/"
        }
      },
      "execution_count": 13,
      "outputs": [
        {
          "output_type": "execute_result",
          "data": {
            "text/plain": [
              "(1, 2)"
            ]
          },
          "metadata": {},
          "execution_count": 13
        }
      ]
    },
    {
      "cell_type": "code",
      "source": [
        "[a,b]"
      ],
      "metadata": {
        "id": "Jj0K_fUNaHm4",
        "outputId": "82e2d61b-13c0-4fc5-831d-a7b1c5d3c96e",
        "colab": {
          "base_uri": "https://localhost:8080/"
        }
      },
      "execution_count": 14,
      "outputs": [
        {
          "output_type": "execute_result",
          "data": {
            "text/plain": [
              "2-element Vector{Int64}:\n",
              " 1\n",
              " 2"
            ]
          },
          "metadata": {},
          "execution_count": 14
        }
      ]
    },
    {
      "cell_type": "code",
      "source": [
        "a,b = b,a\n",
        "[a,b]"
      ],
      "metadata": {
        "id": "IClld30EaJSj",
        "outputId": "8d702286-f075-4483-88ba-3c087088d6a7",
        "colab": {
          "base_uri": "https://localhost:8080/"
        }
      },
      "execution_count": 15,
      "outputs": [
        {
          "output_type": "execute_result",
          "data": {
            "text/plain": [
              "2-element Vector{Int64}:\n",
              " 2\n",
              " 1"
            ]
          },
          "metadata": {},
          "execution_count": 15
        }
      ]
    },
    {
      "cell_type": "code",
      "source": [
        "1 < a < 3"
      ],
      "metadata": {
        "id": "Z25aBLgSan6a",
        "outputId": "068948e0-8e1d-4315-8895-24a2328043a1",
        "colab": {
          "base_uri": "https://localhost:8080/"
        }
      },
      "execution_count": 16,
      "outputs": [
        {
          "output_type": "execute_result",
          "data": {
            "text/plain": [
              "true"
            ]
          },
          "metadata": {},
          "execution_count": 16
        }
      ]
    },
    {
      "cell_type": "code",
      "source": [
        "1 < a && a < 3"
      ],
      "metadata": {
        "id": "iUHJO6-daw0S",
        "outputId": "d73fc806-ef9f-414f-d786-b2a40cf2df2d",
        "colab": {
          "base_uri": "https://localhost:8080/"
        }
      },
      "execution_count": 17,
      "outputs": [
        {
          "output_type": "execute_result",
          "data": {
            "text/plain": [
              "true"
            ]
          },
          "metadata": {},
          "execution_count": 17
        }
      ]
    },
    {
      "cell_type": "code",
      "source": [
        "# ternary operator\n",
        "# res = new variable\n",
        "# if a == b, then res = a, else res = b\n",
        "# in this case a == b, so res = a (res = 1)\n",
        "\n",
        "a = 1\n",
        "b = 1\n",
        "c = 2\n",
        "\n",
        "res = a==b ? a : b"
      ],
      "metadata": {
        "id": "kGlr3_Wha1q3",
        "outputId": "a02e4947-45a4-42e9-da24-c67f1498a189",
        "colab": {
          "base_uri": "https://localhost:8080/"
        }
      },
      "execution_count": 18,
      "outputs": [
        {
          "output_type": "execute_result",
          "data": {
            "text/plain": [
              "1"
            ]
          },
          "metadata": {},
          "execution_count": 18
        }
      ]
    },
    {
      "cell_type": "code",
      "source": [
        "# if a == c, then print out a, otherwise print out c\n",
        "# in this case, a =/= c, so print out c (2)\n",
        "\n",
        "a == c ? a : c"
      ],
      "metadata": {
        "id": "tU6ACEe4a-M8",
        "outputId": "dcc03cb1-7a08-4a08-c157-6686154d547a",
        "colab": {
          "base_uri": "https://localhost:8080/"
        }
      },
      "execution_count": 19,
      "outputs": [
        {
          "output_type": "execute_result",
          "data": {
            "text/plain": [
              "2"
            ]
          },
          "metadata": {},
          "execution_count": 19
        }
      ]
    },
    {
      "cell_type": "code",
      "source": [
        "a == c ? 1 : 10"
      ],
      "metadata": {
        "id": "nG3cR0G9bJIp",
        "outputId": "873a2335-ca36-4735-d218-666120dc500b",
        "colab": {
          "base_uri": "https://localhost:8080/"
        }
      },
      "execution_count": 20,
      "outputs": [
        {
          "output_type": "execute_result",
          "data": {
            "text/plain": [
              "10"
            ]
          },
          "metadata": {},
          "execution_count": 20
        }
      ]
    },
    {
      "cell_type": "code",
      "source": [
        "a == c-b ? 1 : 10"
      ],
      "metadata": {
        "id": "Rpiw7QW7bOQK",
        "outputId": "a01415c2-e024-452b-b421-f4d48ae2c45e",
        "colab": {
          "base_uri": "https://localhost:8080/"
        }
      },
      "execution_count": 21,
      "outputs": [
        {
          "output_type": "execute_result",
          "data": {
            "text/plain": [
              "1"
            ]
          },
          "metadata": {},
          "execution_count": 21
        }
      ]
    },
    {
      "cell_type": "code",
      "source": [
        "# remainder\n",
        "\n",
        "99 % 10"
      ],
      "metadata": {
        "id": "ppqsHdszcJNI",
        "outputId": "afb05a48-5f8f-4f39-c8f3-f861543b6901",
        "colab": {
          "base_uri": "https://localhost:8080/"
        }
      },
      "execution_count": 22,
      "outputs": [
        {
          "output_type": "execute_result",
          "data": {
            "text/plain": [
              "9"
            ]
          },
          "metadata": {},
          "execution_count": 22
        }
      ]
    },
    {
      "cell_type": "markdown",
      "source": [
        "Arrays"
      ],
      "metadata": {
        "id": "871pJkTMcOxQ"
      }
    },
    {
      "cell_type": "code",
      "source": [
        "# declaration, initialization, and indexing\n",
        "\n",
        "# empty vector of double precision floats\n",
        "# floats = includes decimals\n",
        "# 64 = take up different computer memory space, different ammount of precision (can be 16, 32, 64 --> larger num = higher precision)\n",
        "# 1 = array dimension of 1 (vector)\n",
        "v = Array{Float64,1}()"
      ],
      "metadata": {
        "id": "pmZgedTRcN6p",
        "outputId": "06bf4dc4-c4c0-43cd-9315-f56f6de58c9d",
        "colab": {
          "base_uri": "https://localhost:8080/"
        }
      },
      "execution_count": 23,
      "outputs": [
        {
          "output_type": "execute_result",
          "data": {
            "text/plain": [
              "Float64[]"
            ]
          },
          "metadata": {},
          "execution_count": 23
        }
      ]
    },
    {
      "cell_type": "code",
      "source": [
        "push!(v,2.0) # push number to vector v"
      ],
      "metadata": {
        "id": "avn7PJx1c3CS",
        "outputId": "10c15355-c0bc-41a1-bd63-94965e4c6c40",
        "colab": {
          "base_uri": "https://localhost:8080/"
        }
      },
      "execution_count": 24,
      "outputs": [
        {
          "output_type": "execute_result",
          "data": {
            "text/plain": [
              "1-element Vector{Float64}:\n",
              " 2.0"
            ]
          },
          "metadata": {},
          "execution_count": 24
        }
      ]
    },
    {
      "cell_type": "code",
      "source": [
        "v"
      ],
      "metadata": {
        "id": "hwex4v0Uc816",
        "outputId": "6281043d-cd8f-44b6-f41b-7cf8cd989af8",
        "colab": {
          "base_uri": "https://localhost:8080/"
        }
      },
      "execution_count": 25,
      "outputs": [
        {
          "output_type": "execute_result",
          "data": {
            "text/plain": [
              "1-element Vector{Float64}:\n",
              " 2.0"
            ]
          },
          "metadata": {},
          "execution_count": 25
        }
      ]
    },
    {
      "cell_type": "code",
      "source": [
        "push!(v, 3.6)"
      ],
      "metadata": {
        "id": "09LFXlv7c_Ck",
        "outputId": "05c2e4c7-b486-4b29-9886-c57efd1c20a6",
        "colab": {
          "base_uri": "https://localhost:8080/"
        }
      },
      "execution_count": 27,
      "outputs": [
        {
          "output_type": "execute_result",
          "data": {
            "text/plain": [
              "2-element Vector{Float64}:\n",
              " 2.0\n",
              " 3.6"
            ]
          },
          "metadata": {},
          "execution_count": 27
        }
      ]
    },
    {
      "cell_type": "code",
      "source": [
        "# create vector of size 5\n",
        "\n",
        "u = Array{Float64,1}(undef, 5) # undef = randomly generated numbers (doesn't matter what the values are, just want to create vector)"
      ],
      "metadata": {
        "id": "Udt8r12zdI0d",
        "outputId": "9fe6e560-95dc-4154-d70a-01d5ef6838a5",
        "colab": {
          "base_uri": "https://localhost:8080/"
        }
      },
      "execution_count": 34,
      "outputs": [
        {
          "output_type": "execute_result",
          "data": {
            "text/plain": [
              "5-element Vector{Float64}:\n",
              "   5.0e-324\n",
              "   1.0e-323\n",
              " NaN\n",
              " NaN\n",
              "   6.9523669473396e-310"
            ]
          },
          "metadata": {},
          "execution_count": 34
        }
      ]
    },
    {
      "cell_type": "code",
      "source": [
        "# create matrix of size 3x5\n",
        "# double precision = way to store values, 64 bits to store\n",
        "# single precision = 32 bits to store\n",
        "\n",
        "U = Array{Float64, 2}(undef, 3, 5)"
      ],
      "metadata": {
        "id": "WvB-C4E7dQMz",
        "outputId": "9603a0a5-8205-4200-b5b2-7857af74125a",
        "colab": {
          "base_uri": "https://localhost:8080/"
        }
      },
      "execution_count": 35,
      "outputs": [
        {
          "output_type": "execute_result",
          "data": {
            "text/plain": [
              "3×5 Matrix{Float64}:\n",
              " 6.95234e-310  6.95234e-310  6.95234e-310  6.95234e-310  6.95234e-310\n",
              " 6.95234e-310  6.95234e-310  6.95234e-310  6.95234e-310  6.95234e-310\n",
              " 6.95234e-310  6.95234e-310  6.95234e-310  6.95234e-310  3.5e-323"
            ]
          },
          "metadata": {},
          "execution_count": 35
        }
      ]
    },
    {
      "cell_type": "code",
      "source": [
        "# vector of size 5, of 2.2\n",
        "\n",
        "u = fill(2.2, 5)"
      ],
      "metadata": {
        "id": "gNN9_rjPd7Ek",
        "outputId": "32760f78-be25-41ab-9b70-1add9195ba3a",
        "colab": {
          "base_uri": "https://localhost:8080/"
        }
      },
      "execution_count": 36,
      "outputs": [
        {
          "output_type": "execute_result",
          "data": {
            "text/plain": [
              "5-element Vector{Float64}:\n",
              " 2.2\n",
              " 2.2\n",
              " 2.2\n",
              " 2.2\n",
              " 2.2"
            ]
          },
          "metadata": {},
          "execution_count": 36
        }
      ]
    },
    {
      "cell_type": "code",
      "source": [
        "# vector with 5 zeros\n",
        "\n",
        "zeros(5)"
      ],
      "metadata": {
        "id": "rp8uCEycd2UB",
        "outputId": "74202359-61cc-4802-bef9-bf351c7f97e4",
        "colab": {
          "base_uri": "https://localhost:8080/"
        }
      },
      "execution_count": 37,
      "outputs": [
        {
          "output_type": "execute_result",
          "data": {
            "text/plain": [
              "5-element Vector{Float64}:\n",
              " 0.0\n",
              " 0.0\n",
              " 0.0\n",
              " 0.0\n",
              " 0.0"
            ]
          },
          "metadata": {},
          "execution_count": 37
        }
      ]
    },
    {
      "cell_type": "code",
      "source": [
        "zeros(3,5)"
      ],
      "metadata": {
        "id": "dRHTdB-NeYNd",
        "outputId": "3c9da088-c32a-4759-9aee-f0a4eca0c02c",
        "colab": {
          "base_uri": "https://localhost:8080/"
        }
      },
      "execution_count": 38,
      "outputs": [
        {
          "output_type": "execute_result",
          "data": {
            "text/plain": [
              "3×5 Matrix{Float64}:\n",
              " 0.0  0.0  0.0  0.0  0.0\n",
              " 0.0  0.0  0.0  0.0  0.0\n",
              " 0.0  0.0  0.0  0.0  0.0"
            ]
          },
          "metadata": {},
          "execution_count": 38
        }
      ]
    },
    {
      "cell_type": "code",
      "source": [
        "# create zero matrix (same size as U)\n",
        "\n",
        "zero(U)"
      ],
      "metadata": {
        "id": "kOo1WBHHeaeV",
        "outputId": "04f37d8e-ba71-4c72-fc5f-38eb2bda0b82",
        "colab": {
          "base_uri": "https://localhost:8080/"
        }
      },
      "execution_count": 39,
      "outputs": [
        {
          "output_type": "execute_result",
          "data": {
            "text/plain": [
              "3×5 Matrix{Float64}:\n",
              " 0.0  0.0  0.0  0.0  0.0\n",
              " 0.0  0.0  0.0  0.0  0.0\n",
              " 0.0  0.0  0.0  0.0  0.0"
            ]
          },
          "metadata": {},
          "execution_count": 39
        }
      ]
    },
    {
      "cell_type": "code",
      "source": [
        "U"
      ],
      "metadata": {
        "id": "uLCyFHa1eiGB",
        "outputId": "cde7264e-5495-4f76-fd2b-08605615509b",
        "colab": {
          "base_uri": "https://localhost:8080/"
        }
      },
      "execution_count": 40,
      "outputs": [
        {
          "output_type": "execute_result",
          "data": {
            "text/plain": [
              "3×5 Matrix{Float64}:\n",
              " 6.95234e-310  6.95234e-310  6.95234e-310  6.95234e-310  6.95234e-310\n",
              " 6.95234e-310  6.95234e-310  6.95234e-310  6.95234e-310  6.95234e-310\n",
              " 6.95234e-310  6.95234e-310  6.95234e-310  6.95234e-310  3.5e-323"
            ]
          },
          "metadata": {},
          "execution_count": 40
        }
      ]
    },
    {
      "cell_type": "code",
      "source": [
        "ones(3,5)"
      ],
      "metadata": {
        "id": "IXOZTEZbekQV",
        "outputId": "27db8f1f-1a09-42ed-ad4e-3c1e2bb9dea8",
        "colab": {
          "base_uri": "https://localhost:8080/"
        }
      },
      "execution_count": 41,
      "outputs": [
        {
          "output_type": "execute_result",
          "data": {
            "text/plain": [
              "3×5 Matrix{Float64}:\n",
              " 1.0  1.0  1.0  1.0  1.0\n",
              " 1.0  1.0  1.0  1.0  1.0\n",
              " 1.0  1.0  1.0  1.0  1.0"
            ]
          },
          "metadata": {},
          "execution_count": 41
        }
      ]
    },
    {
      "cell_type": "code",
      "source": [
        "using Random, Statistics, Distributions, LinearAlgebra, DataFrames"
      ],
      "metadata": {
        "id": "BMEsdDz3epip"
      },
      "execution_count": 46,
      "outputs": []
    },
    {
      "cell_type": "code",
      "source": [
        "# another way to install packages if run into error\n",
        "\n",
        "#using Pkg\n",
        "#Pkg.add(\"Distributions\")"
      ],
      "metadata": {
        "id": "eL_2XkVWe2fk"
      },
      "execution_count": 45,
      "outputs": []
    },
    {
      "cell_type": "code",
      "source": [
        "Random.seed!(101)"
      ],
      "metadata": {
        "id": "GZzwH0G5fFN5",
        "outputId": "7513b2e3-ad1b-46a8-976a-d803e0c724f4",
        "colab": {
          "base_uri": "https://localhost:8080/"
        }
      },
      "execution_count": 58,
      "outputs": [
        {
          "output_type": "execute_result",
          "data": {
            "text/plain": [
              "TaskLocalRNG()"
            ]
          },
          "metadata": {},
          "execution_count": 58
        }
      ]
    },
    {
      "cell_type": "code",
      "source": [
        "rand(3,5) # uniform(0,1) --> uniform distribution from 0 to 1"
      ],
      "metadata": {
        "id": "W1T1bNL1fP61",
        "outputId": "3d7c8436-5714-413a-dc2b-f14c05f80b02",
        "colab": {
          "base_uri": "https://localhost:8080/"
        }
      },
      "execution_count": 59,
      "outputs": [
        {
          "output_type": "execute_result",
          "data": {
            "text/plain": [
              "3×5 Matrix{Float64}:\n",
              " 0.467922  0.822268   0.311185  0.127011  0.305472\n",
              " 0.304417  0.0189185  0.759787  0.227176  0.385999\n",
              " 0.238407  0.446988   0.56523   0.253949  0.246393"
            ]
          },
          "metadata": {},
          "execution_count": 59
        }
      ]
    },
    {
      "cell_type": "code",
      "source": [
        "randn(3,5) # standard normal"
      ],
      "metadata": {
        "id": "Y62jqyrQfTBR",
        "outputId": "4bdfc1cb-d4a2-4baa-d4f2-ca0b816e2a96",
        "colab": {
          "base_uri": "https://localhost:8080/"
        }
      },
      "execution_count": 60,
      "outputs": [
        {
          "output_type": "execute_result",
          "data": {
            "text/plain": [
              "3×5 Matrix{Float64}:\n",
              " -2.78713   0.697746   0.193796  0.958825  -1.87977\n",
              "  1.02219   0.909278   1.43393   0.582366  -0.496949\n",
              " -0.187686  1.58094   -0.64995   1.55612    0.92985"
            ]
          },
          "metadata": {},
          "execution_count": 60
        }
      ]
    },
    {
      "cell_type": "code",
      "source": [
        "mean(randn(1_000_000)) # '_' == ',' (1_000_000 == 1,000,000)"
      ],
      "metadata": {
        "id": "8qhL70UjffY_",
        "outputId": "4692ec21-3182-48da-c965-25d42a4cd187",
        "colab": {
          "base_uri": "https://localhost:8080/"
        }
      },
      "execution_count": 61,
      "outputs": [
        {
          "output_type": "execute_result",
          "data": {
            "text/plain": [
              "-0.0007975530088560181"
            ]
          },
          "metadata": {},
          "execution_count": 61
        }
      ]
    },
    {
      "cell_type": "code",
      "source": [
        "var(randn(1_000_000))"
      ],
      "metadata": {
        "id": "d9g_CcooftH4",
        "outputId": "1be4b8da-33e5-4956-e4ab-9832414afbe1",
        "colab": {
          "base_uri": "https://localhost:8080/"
        }
      },
      "execution_count": 62,
      "outputs": [
        {
          "output_type": "execute_result",
          "data": {
            "text/plain": [
              "1.0014996619665901"
            ]
          },
          "metadata": {},
          "execution_count": 62
        }
      ]
    },
    {
      "cell_type": "code",
      "source": [
        "Random.seed!(100)"
      ],
      "metadata": {
        "id": "ikRk1A2IhLXC",
        "outputId": "bf0d5301-e1dc-4244-d101-280a9b69a7fd",
        "colab": {
          "base_uri": "https://localhost:8080/"
        }
      },
      "execution_count": 80,
      "outputs": [
        {
          "output_type": "execute_result",
          "data": {
            "text/plain": [
              "TaskLocalRNG()"
            ]
          },
          "metadata": {},
          "execution_count": 80
        }
      ]
    },
    {
      "cell_type": "code",
      "source": [
        "M = rand(Binomial(2,0.5),10,20)"
      ],
      "metadata": {
        "id": "DwhOU5H-fv3Z",
        "outputId": "7c521f89-5e2b-4978-8feb-11cbf313cd0e",
        "colab": {
          "base_uri": "https://localhost:8080/"
        }
      },
      "execution_count": 81,
      "outputs": [
        {
          "output_type": "execute_result",
          "data": {
            "text/plain": [
              "10×20 Matrix{Int64}:\n",
              " 2  1  0  2  0  1  1  0  0  0  0  1  2  2  0  0  2  1  1  0\n",
              " 0  1  0  0  2  0  1  1  0  1  1  1  2  0  1  0  2  0  1  2\n",
              " 2  0  1  0  0  0  2  1  2  1  2  0  0  1  0  0  1  1  1  2\n",
              " 1  1  2  1  0  1  2  2  1  1  1  0  1  2  1  2  2  1  0  1\n",
              " 2  0  1  2  2  2  1  0  1  2  1  1  1  1  2  2  0  0  0  1\n",
              " 1  2  1  1  1  1  2  2  1  1  1  1  1  1  1  2  0  1  1  2\n",
              " 1  1  0  1  0  1  2  1  2  1  0  1  1  2  1  1  1  1  1  0\n",
              " 1  1  1  2  1  1  1  1  2  0  0  1  0  0  0  1  2  2  2  0\n",
              " 1  1  1  1  2  0  1  1  2  1  1  1  0  0  1  1  1  1  0  1\n",
              " 2  1  1  2  1  0  0  0  0  1  2  2  1  1  2  1  1  2  2  1"
            ]
          },
          "metadata": {},
          "execution_count": 81
        }
      ]
    },
    {
      "cell_type": "code",
      "source": [
        "# [row, column]\n",
        "\n",
        "M[:,1]"
      ],
      "metadata": {
        "id": "afJHncycfyzO",
        "outputId": "79d8780c-254e-4cb8-f1a3-8b20bebd0868",
        "colab": {
          "base_uri": "https://localhost:8080/"
        }
      },
      "execution_count": 82,
      "outputs": [
        {
          "output_type": "execute_result",
          "data": {
            "text/plain": [
              "10-element Vector{Int64}:\n",
              " 2\n",
              " 0\n",
              " 2\n",
              " 1\n",
              " 2\n",
              " 1\n",
              " 1\n",
              " 1\n",
              " 1\n",
              " 2"
            ]
          },
          "metadata": {},
          "execution_count": 82
        }
      ]
    },
    {
      "cell_type": "code",
      "source": [
        "M[1,:]"
      ],
      "metadata": {
        "id": "pXu29fpygRfg",
        "outputId": "72e9dbaf-95b3-4085-b211-980fc712a103",
        "colab": {
          "base_uri": "https://localhost:8080/"
        }
      },
      "execution_count": 83,
      "outputs": [
        {
          "output_type": "execute_result",
          "data": {
            "text/plain": [
              "20-element Vector{Int64}:\n",
              " 2\n",
              " 1\n",
              " 0\n",
              " 2\n",
              " 0\n",
              " 1\n",
              " 1\n",
              " 0\n",
              " 0\n",
              " 0\n",
              " 0\n",
              " 1\n",
              " 2\n",
              " 2\n",
              " 0\n",
              " 0\n",
              " 2\n",
              " 1\n",
              " 1\n",
              " 0"
            ]
          },
          "metadata": {},
          "execution_count": 83
        }
      ]
    },
    {
      "cell_type": "code",
      "source": [
        "# transposing\n",
        "\n",
        "M[1,:]'"
      ],
      "metadata": {
        "id": "qgN_GxgjgYfD",
        "outputId": "ddc528ea-9529-4f99-b26e-0922fe131104",
        "colab": {
          "base_uri": "https://localhost:8080/"
        }
      },
      "execution_count": 84,
      "outputs": [
        {
          "output_type": "execute_result",
          "data": {
            "text/plain": [
              "1×20 adjoint(::Vector{Int64}) with eltype Int64:\n",
              " 2  1  0  2  0  1  1  0  0  0  0  1  2  2  0  0  2  1  1  0"
            ]
          },
          "metadata": {},
          "execution_count": 84
        }
      ]
    },
    {
      "cell_type": "code",
      "source": [
        "M[1,:]'M[1,:]"
      ],
      "metadata": {
        "id": "fEEW4_KygfJz",
        "outputId": "8728a31c-dc42-4bb2-e57c-07223a37e80a",
        "colab": {
          "base_uri": "https://localhost:8080/"
        }
      },
      "execution_count": 85,
      "outputs": [
        {
          "output_type": "execute_result",
          "data": {
            "text/plain": [
              "26"
            ]
          },
          "metadata": {},
          "execution_count": 85
        }
      ]
    },
    {
      "cell_type": "code",
      "source": [
        "M[1,:]'*M[1,:]"
      ],
      "metadata": {
        "id": "5tvowu8fgjXS",
        "outputId": "f1d33197-aea0-4e10-ef1d-3b4eaee1fb82",
        "colab": {
          "base_uri": "https://localhost:8080/"
        }
      },
      "execution_count": 86,
      "outputs": [
        {
          "output_type": "execute_result",
          "data": {
            "text/plain": [
              "26"
            ]
          },
          "metadata": {},
          "execution_count": 86
        }
      ]
    },
    {
      "cell_type": "code",
      "source": [
        "# dot product (matrix multiplication)\n",
        "\n",
        "dot(M[1,:],M[1,:])"
      ],
      "metadata": {
        "id": "DAUl0e25gqcn",
        "outputId": "3e768691-1780-4ba3-9171-392b8ab2d2d2",
        "colab": {
          "base_uri": "https://localhost:8080/"
        }
      },
      "execution_count": 87,
      "outputs": [
        {
          "output_type": "execute_result",
          "data": {
            "text/plain": [
              "26"
            ]
          },
          "metadata": {},
          "execution_count": 87
        }
      ]
    },
    {
      "cell_type": "code",
      "source": [
        "# calcualte dot product manually (square every element and then add)\n",
        "# '.' = do operation on every element in matrix\n",
        "\n",
        "M[1,:].^2"
      ],
      "metadata": {
        "id": "XS3J8vxtgtdf",
        "outputId": "f646facd-8af8-4f5f-aa36-3bfe7545b4af",
        "colab": {
          "base_uri": "https://localhost:8080/"
        }
      },
      "execution_count": 88,
      "outputs": [
        {
          "output_type": "execute_result",
          "data": {
            "text/plain": [
              "20-element Vector{Int64}:\n",
              " 4\n",
              " 1\n",
              " 0\n",
              " 4\n",
              " 0\n",
              " 1\n",
              " 1\n",
              " 0\n",
              " 0\n",
              " 0\n",
              " 0\n",
              " 1\n",
              " 4\n",
              " 4\n",
              " 0\n",
              " 0\n",
              " 4\n",
              " 1\n",
              " 1\n",
              " 0"
            ]
          },
          "metadata": {},
          "execution_count": 88
        }
      ]
    },
    {
      "cell_type": "code",
      "source": [
        "sum(M[1,:].^2)"
      ],
      "metadata": {
        "id": "yJpJUknKgvuq",
        "outputId": "ae2f2570-aea0-4246-d3ae-72f9d3e6fe7d",
        "colab": {
          "base_uri": "https://localhost:8080/"
        }
      },
      "execution_count": 89,
      "outputs": [
        {
          "output_type": "execute_result",
          "data": {
            "text/plain": [
              "26"
            ]
          },
          "metadata": {},
          "execution_count": 89
        }
      ]
    },
    {
      "cell_type": "code",
      "source": [
        "M'M == M'*M"
      ],
      "metadata": {
        "id": "Ah81WK8RgyVG",
        "outputId": "9ce517b4-7e41-4c4e-e071-379513b216d7",
        "colab": {
          "base_uri": "https://localhost:8080/"
        }
      },
      "execution_count": 90,
      "outputs": [
        {
          "output_type": "execute_result",
          "data": {
            "text/plain": [
              "true"
            ]
          },
          "metadata": {},
          "execution_count": 90
        }
      ]
    },
    {
      "cell_type": "code",
      "source": [
        "# identity matrix\n",
        "\n",
        "I(3)"
      ],
      "metadata": {
        "id": "XaAo5gNIg2qN",
        "outputId": "75e5f42e-afa8-446a-bdd1-6c019d892ebe",
        "colab": {
          "base_uri": "https://localhost:8080/"
        }
      },
      "execution_count": 91,
      "outputs": [
        {
          "output_type": "execute_result",
          "data": {
            "text/plain": [
              "3×3 Diagonal{Bool, Vector{Bool}}:\n",
              " 1  ⋅  ⋅\n",
              " ⋅  1  ⋅\n",
              " ⋅  ⋅  1"
            ]
          },
          "metadata": {},
          "execution_count": 91
        }
      ]
    },
    {
      "cell_type": "code",
      "source": [
        "1I(3)"
      ],
      "metadata": {
        "id": "vYiCUYsih1Pq",
        "outputId": "d29415f3-aa33-4148-c03e-13116754931c",
        "colab": {
          "base_uri": "https://localhost:8080/"
        }
      },
      "execution_count": 93,
      "outputs": [
        {
          "output_type": "execute_result",
          "data": {
            "text/plain": [
              "3×3 Diagonal{Int64, Vector{Int64}}:\n",
              " 1  ⋅  ⋅\n",
              " ⋅  1  ⋅\n",
              " ⋅  ⋅  1"
            ]
          },
          "metadata": {},
          "execution_count": 93
        }
      ]
    },
    {
      "cell_type": "code",
      "source": [
        "1.0I(2)"
      ],
      "metadata": {
        "id": "_0-LtRMMhv7W",
        "outputId": "fdee4bf2-f4e0-451c-ea2a-541aee730cd6",
        "colab": {
          "base_uri": "https://localhost:8080/"
        }
      },
      "execution_count": 94,
      "outputs": [
        {
          "output_type": "execute_result",
          "data": {
            "text/plain": [
              "2×2 Diagonal{Float64, Vector{Float64}}:\n",
              " 1.0   ⋅ \n",
              "  ⋅   1.0"
            ]
          },
          "metadata": {},
          "execution_count": 94
        }
      ]
    },
    {
      "cell_type": "code",
      "source": [
        "A = M'M + I # don't need to specify dimensions for I (will infer same dimension)"
      ],
      "metadata": {
        "id": "r5k-DyVZh0gU",
        "outputId": "b1dbe24a-b914-4ac5-a745-df99c8c1307c",
        "colab": {
          "base_uri": "https://localhost:8080/"
        }
      },
      "execution_count": 95,
      "outputs": [
        {
          "output_type": "execute_result",
          "data": {
            "text/plain": [
              "20×20 Matrix{Int64}:\n",
              " 22  10  11  18  10  10  16   9  14  …  12  11  15  12  13  14  14  12  12\n",
              " 10  12   7  11   8   6  12  10   9      9   9   9   8  10  11  10   9   9\n",
              " 11   7  11  10   7   6  11   9  10      6   5   8   8  11   9   9   6   9\n",
              " 18  11  10  21  11  11  13   8  12     13  11  13  12  14  14  14  12   8\n",
              " 10   8   7  11  16   6   9   7   9     10   8   4  11  10   9   7   7  11\n",
              " 10   6   6  11   6  10  10   6   8  …   6   7   9   7  10   7   6   5   5\n",
              " 16  12  11  13   9  10  22  15  17      9  11  15  10  14  15  12  10  14\n",
              "  9  10   9   8   7   6  15  14  12      6   7   9   7  11  11   9   7  11\n",
              " 14   9  10  12   9   8  17  12  20      8   5  10   8  12  12  12   9  10\n",
              " 12   7   8  10  10   7  12   8  10      8   8   9  11  11   8   7   6  11\n",
              " 13   7   9   9   9   4  11   8   9  …   8   7   8  10   9   9   9   8  13\n",
              " 12   9   6  13  10   6   9   6   8     12   9   8  10   9  10  10  10   8\n",
              " 11   9   5  11   8   7  11   7   5      9  14  11   9   8  12   7   8   9\n",
              " 15   9   8  13   4   9  15   9  10      8  11  17   9  11  12  10   8   8\n",
              " 12   8   8  12  11   7  10   7   8     10   9   9  14  12   8   8   7  10\n",
              " 13  10  11  14  10  10  14  11  12  …   9   8  11  12  17   9  10   7  10\n",
              " 14  11   9  14   9   7  15  11  12     10  12  12   8   9  21  13  12  10\n",
              " 14  10   9  14   7   6  12   9  12     10   7  10   8  10  13  15  12   8\n",
              " 12   9   6  12   7   5  10   7   9     10   8   8   7   7  12  12  14   8\n",
              " 12   9   9   8  11   5  14  11  10      8   9   8  10  10  10   8   8  17"
            ]
          },
          "metadata": {},
          "execution_count": 95
        }
      ]
    },
    {
      "cell_type": "code",
      "source": [
        "M'M + I(20) # can specify dimensions for I but don't need to"
      ],
      "metadata": {
        "id": "0JQ4nD5niBRH",
        "outputId": "ad53e0ec-9158-4866-ef58-e0b12621bb5b",
        "colab": {
          "base_uri": "https://localhost:8080/"
        }
      },
      "execution_count": 96,
      "outputs": [
        {
          "output_type": "execute_result",
          "data": {
            "text/plain": [
              "20×20 Matrix{Int64}:\n",
              " 22  10  11  18  10  10  16   9  14  …  12  11  15  12  13  14  14  12  12\n",
              " 10  12   7  11   8   6  12  10   9      9   9   9   8  10  11  10   9   9\n",
              " 11   7  11  10   7   6  11   9  10      6   5   8   8  11   9   9   6   9\n",
              " 18  11  10  21  11  11  13   8  12     13  11  13  12  14  14  14  12   8\n",
              " 10   8   7  11  16   6   9   7   9     10   8   4  11  10   9   7   7  11\n",
              " 10   6   6  11   6  10  10   6   8  …   6   7   9   7  10   7   6   5   5\n",
              " 16  12  11  13   9  10  22  15  17      9  11  15  10  14  15  12  10  14\n",
              "  9  10   9   8   7   6  15  14  12      6   7   9   7  11  11   9   7  11\n",
              " 14   9  10  12   9   8  17  12  20      8   5  10   8  12  12  12   9  10\n",
              " 12   7   8  10  10   7  12   8  10      8   8   9  11  11   8   7   6  11\n",
              " 13   7   9   9   9   4  11   8   9  …   8   7   8  10   9   9   9   8  13\n",
              " 12   9   6  13  10   6   9   6   8     12   9   8  10   9  10  10  10   8\n",
              " 11   9   5  11   8   7  11   7   5      9  14  11   9   8  12   7   8   9\n",
              " 15   9   8  13   4   9  15   9  10      8  11  17   9  11  12  10   8   8\n",
              " 12   8   8  12  11   7  10   7   8     10   9   9  14  12   8   8   7  10\n",
              " 13  10  11  14  10  10  14  11  12  …   9   8  11  12  17   9  10   7  10\n",
              " 14  11   9  14   9   7  15  11  12     10  12  12   8   9  21  13  12  10\n",
              " 14  10   9  14   7   6  12   9  12     10   7  10   8  10  13  15  12   8\n",
              " 12   9   6  12   7   5  10   7   9     10   8   8   7   7  12  12  14   8\n",
              " 12   9   9   8  11   5  14  11  10      8   9   8  10  10  10   8   8  17"
            ]
          },
          "metadata": {},
          "execution_count": 96
        }
      ]
    },
    {
      "cell_type": "code",
      "source": [
        "B = rand(3,3) + I"
      ],
      "metadata": {
        "id": "_6-glsUbiQTB",
        "outputId": "4be12f2b-c0d2-45aa-bca0-f339b75b23f3",
        "colab": {
          "base_uri": "https://localhost:8080/"
        }
      },
      "execution_count": 97,
      "outputs": [
        {
          "output_type": "execute_result",
          "data": {
            "text/plain": [
              "3×3 Matrix{Float64}:\n",
              " 1.45742     0.905428  0.428537\n",
              " 0.00450378  1.4083    0.831837\n",
              " 0.26018     0.940167  1.68669"
            ]
          },
          "metadata": {},
          "execution_count": 97
        }
      ]
    },
    {
      "cell_type": "code",
      "source": [
        "B*I"
      ],
      "metadata": {
        "id": "3YpdytaLiTvf",
        "outputId": "10a3950e-1157-486f-bca4-a853e47ae275",
        "colab": {
          "base_uri": "https://localhost:8080/"
        }
      },
      "execution_count": 98,
      "outputs": [
        {
          "output_type": "execute_result",
          "data": {
            "text/plain": [
              "3×3 Matrix{Float64}:\n",
              " 1.45742     0.905428  0.428537\n",
              " 0.00450378  1.4083    0.831837\n",
              " 0.26018     0.940167  1.68669"
            ]
          },
          "metadata": {},
          "execution_count": 98
        }
      ]
    },
    {
      "cell_type": "code",
      "source": [
        "B == B*I"
      ],
      "metadata": {
        "id": "I8GGfGdHiVqA",
        "outputId": "0b2cceb1-84ee-4677-9807-cba4d97c448e",
        "colab": {
          "base_uri": "https://localhost:8080/"
        }
      },
      "execution_count": 99,
      "outputs": [
        {
          "output_type": "execute_result",
          "data": {
            "text/plain": [
              "true"
            ]
          },
          "metadata": {},
          "execution_count": 99
        }
      ]
    },
    {
      "cell_type": "code",
      "source": [
        "B === B*I # triple equality = whether two operations are exactly the same (even if values are the same)"
      ],
      "metadata": {
        "id": "COciBcOsiXtI",
        "outputId": "249c955c-f372-4f75-b9b7-c7747c8fdc53",
        "colab": {
          "base_uri": "https://localhost:8080/"
        }
      },
      "execution_count": 100,
      "outputs": [
        {
          "output_type": "execute_result",
          "data": {
            "text/plain": [
              "false"
            ]
          },
          "metadata": {},
          "execution_count": 100
        }
      ]
    },
    {
      "cell_type": "code",
      "source": [
        "Diagonal(A) # all diagonal values of matrix"
      ],
      "metadata": {
        "id": "m9L3LenNihME",
        "outputId": "48f5caa2-92b2-4cf7-dd1e-712cce9cb099",
        "colab": {
          "base_uri": "https://localhost:8080/"
        }
      },
      "execution_count": 101,
      "outputs": [
        {
          "output_type": "execute_result",
          "data": {
            "text/plain": [
              "20×20 Diagonal{Int64, Vector{Int64}}:\n",
              " 22   ⋅   ⋅   ⋅   ⋅   ⋅   ⋅   ⋅   ⋅  …   ⋅   ⋅   ⋅   ⋅   ⋅   ⋅   ⋅   ⋅   ⋅\n",
              "  ⋅  12   ⋅   ⋅   ⋅   ⋅   ⋅   ⋅   ⋅      ⋅   ⋅   ⋅   ⋅   ⋅   ⋅   ⋅   ⋅   ⋅\n",
              "  ⋅   ⋅  11   ⋅   ⋅   ⋅   ⋅   ⋅   ⋅      ⋅   ⋅   ⋅   ⋅   ⋅   ⋅   ⋅   ⋅   ⋅\n",
              "  ⋅   ⋅   ⋅  21   ⋅   ⋅   ⋅   ⋅   ⋅      ⋅   ⋅   ⋅   ⋅   ⋅   ⋅   ⋅   ⋅   ⋅\n",
              "  ⋅   ⋅   ⋅   ⋅  16   ⋅   ⋅   ⋅   ⋅      ⋅   ⋅   ⋅   ⋅   ⋅   ⋅   ⋅   ⋅   ⋅\n",
              "  ⋅   ⋅   ⋅   ⋅   ⋅  10   ⋅   ⋅   ⋅  …   ⋅   ⋅   ⋅   ⋅   ⋅   ⋅   ⋅   ⋅   ⋅\n",
              "  ⋅   ⋅   ⋅   ⋅   ⋅   ⋅  22   ⋅   ⋅      ⋅   ⋅   ⋅   ⋅   ⋅   ⋅   ⋅   ⋅   ⋅\n",
              "  ⋅   ⋅   ⋅   ⋅   ⋅   ⋅   ⋅  14   ⋅      ⋅   ⋅   ⋅   ⋅   ⋅   ⋅   ⋅   ⋅   ⋅\n",
              "  ⋅   ⋅   ⋅   ⋅   ⋅   ⋅   ⋅   ⋅  20      ⋅   ⋅   ⋅   ⋅   ⋅   ⋅   ⋅   ⋅   ⋅\n",
              "  ⋅   ⋅   ⋅   ⋅   ⋅   ⋅   ⋅   ⋅   ⋅      ⋅   ⋅   ⋅   ⋅   ⋅   ⋅   ⋅   ⋅   ⋅\n",
              "  ⋅   ⋅   ⋅   ⋅   ⋅   ⋅   ⋅   ⋅   ⋅  …   ⋅   ⋅   ⋅   ⋅   ⋅   ⋅   ⋅   ⋅   ⋅\n",
              "  ⋅   ⋅   ⋅   ⋅   ⋅   ⋅   ⋅   ⋅   ⋅     12   ⋅   ⋅   ⋅   ⋅   ⋅   ⋅   ⋅   ⋅\n",
              "  ⋅   ⋅   ⋅   ⋅   ⋅   ⋅   ⋅   ⋅   ⋅      ⋅  14   ⋅   ⋅   ⋅   ⋅   ⋅   ⋅   ⋅\n",
              "  ⋅   ⋅   ⋅   ⋅   ⋅   ⋅   ⋅   ⋅   ⋅      ⋅   ⋅  17   ⋅   ⋅   ⋅   ⋅   ⋅   ⋅\n",
              "  ⋅   ⋅   ⋅   ⋅   ⋅   ⋅   ⋅   ⋅   ⋅      ⋅   ⋅   ⋅  14   ⋅   ⋅   ⋅   ⋅   ⋅\n",
              "  ⋅   ⋅   ⋅   ⋅   ⋅   ⋅   ⋅   ⋅   ⋅  …   ⋅   ⋅   ⋅   ⋅  17   ⋅   ⋅   ⋅   ⋅\n",
              "  ⋅   ⋅   ⋅   ⋅   ⋅   ⋅   ⋅   ⋅   ⋅      ⋅   ⋅   ⋅   ⋅   ⋅  21   ⋅   ⋅   ⋅\n",
              "  ⋅   ⋅   ⋅   ⋅   ⋅   ⋅   ⋅   ⋅   ⋅      ⋅   ⋅   ⋅   ⋅   ⋅   ⋅  15   ⋅   ⋅\n",
              "  ⋅   ⋅   ⋅   ⋅   ⋅   ⋅   ⋅   ⋅   ⋅      ⋅   ⋅   ⋅   ⋅   ⋅   ⋅   ⋅  14   ⋅\n",
              "  ⋅   ⋅   ⋅   ⋅   ⋅   ⋅   ⋅   ⋅   ⋅      ⋅   ⋅   ⋅   ⋅   ⋅   ⋅   ⋅   ⋅  17"
            ]
          },
          "metadata": {},
          "execution_count": 101
        }
      ]
    },
    {
      "cell_type": "code",
      "source": [
        "v = [1,2,3]\n",
        "Diagonal(v) # if use vector as input, vector becomes diagonal"
      ],
      "metadata": {
        "id": "CgqPtFrVikEu",
        "outputId": "4fd00abe-f9fc-48d6-a33a-e8f9f7390dbf",
        "colab": {
          "base_uri": "https://localhost:8080/"
        }
      },
      "execution_count": 102,
      "outputs": [
        {
          "output_type": "execute_result",
          "data": {
            "text/plain": [
              "3×3 Diagonal{Int64, Vector{Int64}}:\n",
              " 1  ⋅  ⋅\n",
              " ⋅  2  ⋅\n",
              " ⋅  ⋅  3"
            ]
          },
          "metadata": {},
          "execution_count": 102
        }
      ]
    },
    {
      "cell_type": "code",
      "source": [
        "B = A[1:2, 3:4]"
      ],
      "metadata": {
        "id": "UHA5d-gviu6p",
        "outputId": "832ae3e8-1122-4f19-b8a4-3e418c95bc61",
        "colab": {
          "base_uri": "https://localhost:8080/"
        }
      },
      "execution_count": 104,
      "outputs": [
        {
          "output_type": "execute_result",
          "data": {
            "text/plain": [
              "2×2 Matrix{Int64}:\n",
              " 11  18\n",
              "  7  11"
            ]
          },
          "metadata": {},
          "execution_count": 104
        }
      ]
    },
    {
      "cell_type": "code",
      "source": [
        "C = A[1:2, 11:end] # end = call all the way to last column"
      ],
      "metadata": {
        "id": "_M9raNkdi1q0",
        "outputId": "296d7520-6bfb-4989-d6bc-5784f94f721f",
        "colab": {
          "base_uri": "https://localhost:8080/"
        }
      },
      "execution_count": 105,
      "outputs": [
        {
          "output_type": "execute_result",
          "data": {
            "text/plain": [
              "2×10 Matrix{Int64}:\n",
              " 13  12  11  15  12  13  14  14  12  12\n",
              "  7   9   9   9   8  10  11  10   9   9"
            ]
          },
          "metadata": {},
          "execution_count": 105
        }
      ]
    },
    {
      "cell_type": "code",
      "source": [
        "[B C] # bind two matrices by rows"
      ],
      "metadata": {
        "id": "H0XBf47ai7xi",
        "outputId": "b8ee86f5-6f5f-495d-8ced-55b65e7b3775",
        "colab": {
          "base_uri": "https://localhost:8080/"
        }
      },
      "execution_count": 106,
      "outputs": [
        {
          "output_type": "execute_result",
          "data": {
            "text/plain": [
              "2×12 Matrix{Int64}:\n",
              " 11  18  13  12  11  15  12  13  14  14  12  12\n",
              "  7  11   7   9   9   9   8  10  11  10   9   9"
            ]
          },
          "metadata": {},
          "execution_count": 106
        }
      ]
    },
    {
      "cell_type": "code",
      "source": [
        "hcat(B, C) # function to bind two matrices horizontally"
      ],
      "metadata": {
        "id": "akz2fNqCi_GI",
        "outputId": "7da3f163-2ca9-4576-a70f-28aaefa244f5",
        "colab": {
          "base_uri": "https://localhost:8080/"
        }
      },
      "execution_count": 108,
      "outputs": [
        {
          "output_type": "execute_result",
          "data": {
            "text/plain": [
              "2×12 Matrix{Int64}:\n",
              " 11  18  13  12  11  15  12  13  14  14  12  12\n",
              "  7  11   7   9   9   9   8  10  11  10   9   9"
            ]
          },
          "metadata": {},
          "execution_count": 108
        }
      ]
    },
    {
      "cell_type": "code",
      "source": [
        "# bind by columns\n",
        "\n",
        "[\n",
        "  A[1:2,:]\n",
        "  A[11:end,:]\n",
        "]"
      ],
      "metadata": {
        "id": "LxXqvutFjFAy",
        "outputId": "610cb240-28fe-4160-8cba-478dac3f51aa",
        "colab": {
          "base_uri": "https://localhost:8080/"
        }
      },
      "execution_count": 109,
      "outputs": [
        {
          "output_type": "execute_result",
          "data": {
            "text/plain": [
              "12×20 Matrix{Int64}:\n",
              " 22  10  11  18  10  10  16   9  14  …  12  11  15  12  13  14  14  12  12\n",
              " 10  12   7  11   8   6  12  10   9      9   9   9   8  10  11  10   9   9\n",
              " 13   7   9   9   9   4  11   8   9      8   7   8  10   9   9   9   8  13\n",
              " 12   9   6  13  10   6   9   6   8     12   9   8  10   9  10  10  10   8\n",
              " 11   9   5  11   8   7  11   7   5      9  14  11   9   8  12   7   8   9\n",
              " 15   9   8  13   4   9  15   9  10  …   8  11  17   9  11  12  10   8   8\n",
              " 12   8   8  12  11   7  10   7   8     10   9   9  14  12   8   8   7  10\n",
              " 13  10  11  14  10  10  14  11  12      9   8  11  12  17   9  10   7  10\n",
              " 14  11   9  14   9   7  15  11  12     10  12  12   8   9  21  13  12  10\n",
              " 14  10   9  14   7   6  12   9  12     10   7  10   8  10  13  15  12   8\n",
              " 12   9   6  12   7   5  10   7   9  …  10   8   8   7   7  12  12  14   8\n",
              " 12   9   9   8  11   5  14  11  10      8   9   8  10  10  10   8   8  17"
            ]
          },
          "metadata": {},
          "execution_count": 109
        }
      ]
    },
    {
      "cell_type": "code",
      "source": [
        "# bind vertically"
      ],
      "metadata": {
        "id": "39ZwycOfjL0X"
      },
      "execution_count": null,
      "outputs": []
    }
  ],
  "metadata": {
    "accelerator": "GPU",
    "colab": {
      "collapsed_sections": [],
      "name": "Julia_colab.ipynb",
      "provenance": [],
      "toc_visible": true
    },
    "kernelspec": {
      "display_name": "Julia",
      "language": "julia",
      "name": "julia"
    },
    "language_info": {
      "file_extension": ".jl",
      "mimetype": "application/julia",
      "name": "julia"
    }
  },
  "nbformat": 4,
  "nbformat_minor": 0
}